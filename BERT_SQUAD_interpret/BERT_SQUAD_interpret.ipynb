{
  "cells": [
    {
      "cell_type": "markdown",
      "source": [
        "# Clone du projet \"Interpretation de BERT\"\n",
        "### Nouvelles données utilisées : SQuAD v2.0 (Stanford Question Answering Dataset)\n",
        "### Réalisé par : Moqim Ghizlan et Thibaut JUILLARD\n",
        "\n",
        "\n",
        "Ce notebook implémente un modèle de Question Answering basé sur BERT, appliqué au dataset SQuAD v2.0. L'interprétation des décisions du modèle est réalisée à l'aide de la méthode Layerwise Relevance Propagation (LRP) pour analyser l'importance des tokens et des couches dans les prédictions du modèle.\n"
      ],
      "metadata": {
        "id": "z_lzqG62FRk5"
      }
    },
    {
      "cell_type": "code",
      "execution_count": 2,
      "metadata": {
        "colab": {
          "base_uri": "https://localhost:8080/"
        },
        "collapsed": true,
        "id": "Nt_xwgexJuuO",
        "outputId": "c36b2d09-f5bb-4841-9397-39adb85fe90c"
      },
      "outputs": [
        {
          "output_type": "stream",
          "name": "stdout",
          "text": [
            "Requirement already satisfied: seaborn in /usr/local/lib/python3.11/dist-packages (0.13.2)\n",
            "Requirement already satisfied: pandas in /usr/local/lib/python3.11/dist-packages (2.2.2)\n",
            "Requirement already satisfied: matplotlib in /usr/local/lib/python3.11/dist-packages (3.10.0)\n",
            "Requirement already satisfied: transformers in /usr/local/lib/python3.11/dist-packages (4.48.2)\n",
            "Collecting captum\n",
            "  Downloading captum-0.7.0-py3-none-any.whl.metadata (26 kB)\n",
            "Requirement already satisfied: huggingface_hub in /usr/local/lib/python3.11/dist-packages (0.28.1)\n",
            "Requirement already satisfied: numpy!=1.24.0,>=1.20 in /usr/local/lib/python3.11/dist-packages (from seaborn) (1.26.4)\n",
            "Requirement already satisfied: python-dateutil>=2.8.2 in /usr/local/lib/python3.11/dist-packages (from pandas) (2.8.2)\n",
            "Requirement already satisfied: pytz>=2020.1 in /usr/local/lib/python3.11/dist-packages (from pandas) (2025.1)\n",
            "Requirement already satisfied: tzdata>=2022.7 in /usr/local/lib/python3.11/dist-packages (from pandas) (2025.1)\n",
            "Requirement already satisfied: contourpy>=1.0.1 in /usr/local/lib/python3.11/dist-packages (from matplotlib) (1.3.1)\n",
            "Requirement already satisfied: cycler>=0.10 in /usr/local/lib/python3.11/dist-packages (from matplotlib) (0.12.1)\n",
            "Requirement already satisfied: fonttools>=4.22.0 in /usr/local/lib/python3.11/dist-packages (from matplotlib) (4.55.8)\n",
            "Requirement already satisfied: kiwisolver>=1.3.1 in /usr/local/lib/python3.11/dist-packages (from matplotlib) (1.4.8)\n",
            "Requirement already satisfied: packaging>=20.0 in /usr/local/lib/python3.11/dist-packages (from matplotlib) (24.2)\n",
            "Requirement already satisfied: pillow>=8 in /usr/local/lib/python3.11/dist-packages (from matplotlib) (11.1.0)\n",
            "Requirement already satisfied: pyparsing>=2.3.1 in /usr/local/lib/python3.11/dist-packages (from matplotlib) (3.2.1)\n",
            "Requirement already satisfied: filelock in /usr/local/lib/python3.11/dist-packages (from transformers) (3.17.0)\n",
            "Requirement already satisfied: pyyaml>=5.1 in /usr/local/lib/python3.11/dist-packages (from transformers) (6.0.2)\n",
            "Requirement already satisfied: regex!=2019.12.17 in /usr/local/lib/python3.11/dist-packages (from transformers) (2024.11.6)\n",
            "Requirement already satisfied: requests in /usr/local/lib/python3.11/dist-packages (from transformers) (2.32.3)\n",
            "Requirement already satisfied: tokenizers<0.22,>=0.21 in /usr/local/lib/python3.11/dist-packages (from transformers) (0.21.0)\n",
            "Requirement already satisfied: safetensors>=0.4.1 in /usr/local/lib/python3.11/dist-packages (from transformers) (0.5.2)\n",
            "Requirement already satisfied: tqdm>=4.27 in /usr/local/lib/python3.11/dist-packages (from transformers) (4.67.1)\n",
            "Requirement already satisfied: torch>=1.6 in /usr/local/lib/python3.11/dist-packages (from captum) (2.5.1+cu124)\n",
            "Requirement already satisfied: fsspec>=2023.5.0 in /usr/local/lib/python3.11/dist-packages (from huggingface_hub) (2024.10.0)\n",
            "Requirement already satisfied: typing-extensions>=3.7.4.3 in /usr/local/lib/python3.11/dist-packages (from huggingface_hub) (4.12.2)\n",
            "Requirement already satisfied: six>=1.5 in /usr/local/lib/python3.11/dist-packages (from python-dateutil>=2.8.2->pandas) (1.17.0)\n",
            "Requirement already satisfied: networkx in /usr/local/lib/python3.11/dist-packages (from torch>=1.6->captum) (3.4.2)\n",
            "Requirement already satisfied: jinja2 in /usr/local/lib/python3.11/dist-packages (from torch>=1.6->captum) (3.1.5)\n",
            "Collecting nvidia-cuda-nvrtc-cu12==12.4.127 (from torch>=1.6->captum)\n",
            "  Downloading nvidia_cuda_nvrtc_cu12-12.4.127-py3-none-manylinux2014_x86_64.whl.metadata (1.5 kB)\n",
            "Collecting nvidia-cuda-runtime-cu12==12.4.127 (from torch>=1.6->captum)\n",
            "  Downloading nvidia_cuda_runtime_cu12-12.4.127-py3-none-manylinux2014_x86_64.whl.metadata (1.5 kB)\n",
            "Collecting nvidia-cuda-cupti-cu12==12.4.127 (from torch>=1.6->captum)\n",
            "  Downloading nvidia_cuda_cupti_cu12-12.4.127-py3-none-manylinux2014_x86_64.whl.metadata (1.6 kB)\n",
            "Collecting nvidia-cudnn-cu12==9.1.0.70 (from torch>=1.6->captum)\n",
            "  Downloading nvidia_cudnn_cu12-9.1.0.70-py3-none-manylinux2014_x86_64.whl.metadata (1.6 kB)\n",
            "Collecting nvidia-cublas-cu12==12.4.5.8 (from torch>=1.6->captum)\n",
            "  Downloading nvidia_cublas_cu12-12.4.5.8-py3-none-manylinux2014_x86_64.whl.metadata (1.5 kB)\n",
            "Collecting nvidia-cufft-cu12==11.2.1.3 (from torch>=1.6->captum)\n",
            "  Downloading nvidia_cufft_cu12-11.2.1.3-py3-none-manylinux2014_x86_64.whl.metadata (1.5 kB)\n",
            "Collecting nvidia-curand-cu12==10.3.5.147 (from torch>=1.6->captum)\n",
            "  Downloading nvidia_curand_cu12-10.3.5.147-py3-none-manylinux2014_x86_64.whl.metadata (1.5 kB)\n",
            "Collecting nvidia-cusolver-cu12==11.6.1.9 (from torch>=1.6->captum)\n",
            "  Downloading nvidia_cusolver_cu12-11.6.1.9-py3-none-manylinux2014_x86_64.whl.metadata (1.6 kB)\n",
            "Collecting nvidia-cusparse-cu12==12.3.1.170 (from torch>=1.6->captum)\n",
            "  Downloading nvidia_cusparse_cu12-12.3.1.170-py3-none-manylinux2014_x86_64.whl.metadata (1.6 kB)\n",
            "Requirement already satisfied: nvidia-nccl-cu12==2.21.5 in /usr/local/lib/python3.11/dist-packages (from torch>=1.6->captum) (2.21.5)\n",
            "Requirement already satisfied: nvidia-nvtx-cu12==12.4.127 in /usr/local/lib/python3.11/dist-packages (from torch>=1.6->captum) (12.4.127)\n",
            "Collecting nvidia-nvjitlink-cu12==12.4.127 (from torch>=1.6->captum)\n",
            "  Downloading nvidia_nvjitlink_cu12-12.4.127-py3-none-manylinux2014_x86_64.whl.metadata (1.5 kB)\n",
            "Requirement already satisfied: triton==3.1.0 in /usr/local/lib/python3.11/dist-packages (from torch>=1.6->captum) (3.1.0)\n",
            "Requirement already satisfied: sympy==1.13.1 in /usr/local/lib/python3.11/dist-packages (from torch>=1.6->captum) (1.13.1)\n",
            "Requirement already satisfied: mpmath<1.4,>=1.1.0 in /usr/local/lib/python3.11/dist-packages (from sympy==1.13.1->torch>=1.6->captum) (1.3.0)\n",
            "Requirement already satisfied: charset-normalizer<4,>=2 in /usr/local/lib/python3.11/dist-packages (from requests->transformers) (3.4.1)\n",
            "Requirement already satisfied: idna<4,>=2.5 in /usr/local/lib/python3.11/dist-packages (from requests->transformers) (3.10)\n",
            "Requirement already satisfied: urllib3<3,>=1.21.1 in /usr/local/lib/python3.11/dist-packages (from requests->transformers) (2.3.0)\n",
            "Requirement already satisfied: certifi>=2017.4.17 in /usr/local/lib/python3.11/dist-packages (from requests->transformers) (2025.1.31)\n",
            "Requirement already satisfied: MarkupSafe>=2.0 in /usr/local/lib/python3.11/dist-packages (from jinja2->torch>=1.6->captum) (3.0.2)\n",
            "Downloading captum-0.7.0-py3-none-any.whl (1.3 MB)\n",
            "\u001b[2K   \u001b[90m━━━━━━━━━━━━━━━━━━━━━━━━━━━━━━━━━━━━━━━━\u001b[0m \u001b[32m1.3/1.3 MB\u001b[0m \u001b[31m35.7 MB/s\u001b[0m eta \u001b[36m0:00:00\u001b[0m\n",
            "\u001b[?25hDownloading nvidia_cublas_cu12-12.4.5.8-py3-none-manylinux2014_x86_64.whl (363.4 MB)\n",
            "\u001b[2K   \u001b[90m━━━━━━━━━━━━━━━━━━━━━━━━━━━━━━━━━━━━━━━━\u001b[0m \u001b[32m363.4/363.4 MB\u001b[0m \u001b[31m4.1 MB/s\u001b[0m eta \u001b[36m0:00:00\u001b[0m\n",
            "\u001b[?25hDownloading nvidia_cuda_cupti_cu12-12.4.127-py3-none-manylinux2014_x86_64.whl (13.8 MB)\n",
            "\u001b[2K   \u001b[90m━━━━━━━━━━━━━━━━━━━━━━━━━━━━━━━━━━━━━━━━\u001b[0m \u001b[32m13.8/13.8 MB\u001b[0m \u001b[31m61.8 MB/s\u001b[0m eta \u001b[36m0:00:00\u001b[0m\n",
            "\u001b[?25hDownloading nvidia_cuda_nvrtc_cu12-12.4.127-py3-none-manylinux2014_x86_64.whl (24.6 MB)\n",
            "\u001b[2K   \u001b[90m━━━━━━━━━━━━━━━━━━━━━━━━━━━━━━━━━━━━━━━━\u001b[0m \u001b[32m24.6/24.6 MB\u001b[0m \u001b[31m32.9 MB/s\u001b[0m eta \u001b[36m0:00:00\u001b[0m\n",
            "\u001b[?25hDownloading nvidia_cuda_runtime_cu12-12.4.127-py3-none-manylinux2014_x86_64.whl (883 kB)\n",
            "\u001b[2K   \u001b[90m━━━━━━━━━━━━━━━━━━━━━━━━━━━━━━━━━━━━━━━━\u001b[0m \u001b[32m883.7/883.7 kB\u001b[0m \u001b[31m49.4 MB/s\u001b[0m eta \u001b[36m0:00:00\u001b[0m\n",
            "\u001b[?25hDownloading nvidia_cudnn_cu12-9.1.0.70-py3-none-manylinux2014_x86_64.whl (664.8 MB)\n",
            "\u001b[2K   \u001b[90m━━━━━━━━━━━━━━━━━━━━━━━━━━━━━━━━━━━━━━━━\u001b[0m \u001b[32m664.8/664.8 MB\u001b[0m \u001b[31m2.0 MB/s\u001b[0m eta \u001b[36m0:00:00\u001b[0m\n",
            "\u001b[?25hDownloading nvidia_cufft_cu12-11.2.1.3-py3-none-manylinux2014_x86_64.whl (211.5 MB)\n",
            "\u001b[2K   \u001b[90m━━━━━━━━━━━━━━━━━━━━━━━━━━━━━━━━━━━━━━━━\u001b[0m \u001b[32m211.5/211.5 MB\u001b[0m \u001b[31m6.5 MB/s\u001b[0m eta \u001b[36m0:00:00\u001b[0m\n",
            "\u001b[?25hDownloading nvidia_curand_cu12-10.3.5.147-py3-none-manylinux2014_x86_64.whl (56.3 MB)\n",
            "\u001b[2K   \u001b[90m━━━━━━━━━━━━━━━━━━━━━━━━━━━━━━━━━━━━━━━━\u001b[0m \u001b[32m56.3/56.3 MB\u001b[0m \u001b[31m13.9 MB/s\u001b[0m eta \u001b[36m0:00:00\u001b[0m\n",
            "\u001b[?25hDownloading nvidia_cusolver_cu12-11.6.1.9-py3-none-manylinux2014_x86_64.whl (127.9 MB)\n",
            "\u001b[2K   \u001b[90m━━━━━━━━━━━━━━━━━━━━━━━━━━━━━━━━━━━━━━━━\u001b[0m \u001b[32m127.9/127.9 MB\u001b[0m \u001b[31m8.5 MB/s\u001b[0m eta \u001b[36m0:00:00\u001b[0m\n",
            "\u001b[?25hDownloading nvidia_cusparse_cu12-12.3.1.170-py3-none-manylinux2014_x86_64.whl (207.5 MB)\n",
            "\u001b[2K   \u001b[90m━━━━━━━━━━━━━━━━━━━━━━━━━━━━━━━━━━━━━━━━\u001b[0m \u001b[32m207.5/207.5 MB\u001b[0m \u001b[31m6.0 MB/s\u001b[0m eta \u001b[36m0:00:00\u001b[0m\n",
            "\u001b[?25hDownloading nvidia_nvjitlink_cu12-12.4.127-py3-none-manylinux2014_x86_64.whl (21.1 MB)\n",
            "\u001b[2K   \u001b[90m━━━━━━━━━━━━━━━━━━━━━━━━━━━━━━━━━━━━━━━━\u001b[0m \u001b[32m21.1/21.1 MB\u001b[0m \u001b[31m93.5 MB/s\u001b[0m eta \u001b[36m0:00:00\u001b[0m\n",
            "\u001b[?25hInstalling collected packages: nvidia-nvjitlink-cu12, nvidia-curand-cu12, nvidia-cufft-cu12, nvidia-cuda-runtime-cu12, nvidia-cuda-nvrtc-cu12, nvidia-cuda-cupti-cu12, nvidia-cublas-cu12, nvidia-cusparse-cu12, nvidia-cudnn-cu12, nvidia-cusolver-cu12, captum\n",
            "  Attempting uninstall: nvidia-nvjitlink-cu12\n",
            "    Found existing installation: nvidia-nvjitlink-cu12 12.5.82\n",
            "    Uninstalling nvidia-nvjitlink-cu12-12.5.82:\n",
            "      Successfully uninstalled nvidia-nvjitlink-cu12-12.5.82\n",
            "  Attempting uninstall: nvidia-curand-cu12\n",
            "    Found existing installation: nvidia-curand-cu12 10.3.6.82\n",
            "    Uninstalling nvidia-curand-cu12-10.3.6.82:\n",
            "      Successfully uninstalled nvidia-curand-cu12-10.3.6.82\n",
            "  Attempting uninstall: nvidia-cufft-cu12\n",
            "    Found existing installation: nvidia-cufft-cu12 11.2.3.61\n",
            "    Uninstalling nvidia-cufft-cu12-11.2.3.61:\n",
            "      Successfully uninstalled nvidia-cufft-cu12-11.2.3.61\n",
            "  Attempting uninstall: nvidia-cuda-runtime-cu12\n",
            "    Found existing installation: nvidia-cuda-runtime-cu12 12.5.82\n",
            "    Uninstalling nvidia-cuda-runtime-cu12-12.5.82:\n",
            "      Successfully uninstalled nvidia-cuda-runtime-cu12-12.5.82\n",
            "  Attempting uninstall: nvidia-cuda-nvrtc-cu12\n",
            "    Found existing installation: nvidia-cuda-nvrtc-cu12 12.5.82\n",
            "    Uninstalling nvidia-cuda-nvrtc-cu12-12.5.82:\n",
            "      Successfully uninstalled nvidia-cuda-nvrtc-cu12-12.5.82\n",
            "  Attempting uninstall: nvidia-cuda-cupti-cu12\n",
            "    Found existing installation: nvidia-cuda-cupti-cu12 12.5.82\n",
            "    Uninstalling nvidia-cuda-cupti-cu12-12.5.82:\n",
            "      Successfully uninstalled nvidia-cuda-cupti-cu12-12.5.82\n",
            "  Attempting uninstall: nvidia-cublas-cu12\n",
            "    Found existing installation: nvidia-cublas-cu12 12.5.3.2\n",
            "    Uninstalling nvidia-cublas-cu12-12.5.3.2:\n",
            "      Successfully uninstalled nvidia-cublas-cu12-12.5.3.2\n",
            "  Attempting uninstall: nvidia-cusparse-cu12\n",
            "    Found existing installation: nvidia-cusparse-cu12 12.5.1.3\n",
            "    Uninstalling nvidia-cusparse-cu12-12.5.1.3:\n",
            "      Successfully uninstalled nvidia-cusparse-cu12-12.5.1.3\n",
            "  Attempting uninstall: nvidia-cudnn-cu12\n",
            "    Found existing installation: nvidia-cudnn-cu12 9.3.0.75\n",
            "    Uninstalling nvidia-cudnn-cu12-9.3.0.75:\n",
            "      Successfully uninstalled nvidia-cudnn-cu12-9.3.0.75\n",
            "  Attempting uninstall: nvidia-cusolver-cu12\n",
            "    Found existing installation: nvidia-cusolver-cu12 11.6.3.83\n",
            "    Uninstalling nvidia-cusolver-cu12-11.6.3.83:\n",
            "      Successfully uninstalled nvidia-cusolver-cu12-11.6.3.83\n",
            "Successfully installed captum-0.7.0 nvidia-cublas-cu12-12.4.5.8 nvidia-cuda-cupti-cu12-12.4.127 nvidia-cuda-nvrtc-cu12-12.4.127 nvidia-cuda-runtime-cu12-12.4.127 nvidia-cudnn-cu12-9.1.0.70 nvidia-cufft-cu12-11.2.1.3 nvidia-curand-cu12-10.3.5.147 nvidia-cusolver-cu12-11.6.1.9 nvidia-cusparse-cu12-12.3.1.170 nvidia-nvjitlink-cu12-12.4.127\n"
          ]
        }
      ],
      "source": [
        "!pip install seaborn pandas matplotlib transformers captum huggingface_hub\n"
      ]
    },
    {
      "cell_type": "markdown",
      "source": [
        "## Importation des bibliothèques"
      ],
      "metadata": {
        "id": "UtRV9UtvFuce"
      }
    },
    {
      "cell_type": "code",
      "execution_count": 1,
      "metadata": {
        "id": "5hlxPHgAKOPP"
      },
      "outputs": [],
      "source": [
        "import numpy as np\n",
        "import pandas as pd\n",
        "import seaborn as sns\n",
        "import matplotlib.pyplot as plt\n",
        "import torch\n",
        "import torch.nn as nn\n",
        "from transformers import AutoTokenizer, BertForQuestionAnswering\n",
        "from captum.attr import visualization as viz, LayerConductance, LayerIntegratedGradients\n",
        "from huggingface_hub import login\n",
        "import json"
      ]
    },
    {
      "cell_type": "markdown",
      "source": [
        "## Ce connecter à huggingface hub pour avoir le model"
      ],
      "metadata": {
        "id": "eD65J1GeFvXD"
      }
    },
    {
      "cell_type": "code",
      "execution_count": 3,
      "metadata": {
        "id": "H0YQfhiBHkB2"
      },
      "outputs": [],
      "source": [
        "huggingface_token = '' # Mettez le token ici\n",
        "login(token=huggingface_token)"
      ]
    },
    {
      "cell_type": "markdown",
      "source": [
        "## Préparation du Modèle\n",
        "### Dans cette section, nous allons préparer le modèle 'google-bert/bert-large-uncased-whole-word-masking-finetuned-squad'\n",
        "### en l'associant au GPU si disponible, sinon au CPU.\n"
      ],
      "metadata": {
        "id": "ZDBuOTpcHBRz"
      }
    },
    {
      "cell_type": "code",
      "execution_count": 4,
      "metadata": {
        "id": "e6GRHLLLRebA",
        "colab": {
          "base_uri": "https://localhost:8080/"
        },
        "outputId": "100e36a8-773b-495e-a038-61973097a2bf"
      },
      "outputs": [
        {
          "output_type": "stream",
          "name": "stderr",
          "text": [
            "/usr/local/lib/python3.11/dist-packages/transformers/models/auto/tokenization_auto.py:823: FutureWarning: The `use_auth_token` argument is deprecated and will be removed in v5 of Transformers. Please use `token` instead.\n",
            "  warnings.warn(\n",
            "/usr/local/lib/python3.11/dist-packages/transformers/modeling_utils.py:3437: FutureWarning: The `use_auth_token` argument is deprecated and will be removed in v5 of Transformers. Please use `token` instead.\n",
            "  warnings.warn(\n",
            "Some weights of the model checkpoint at google-bert/bert-large-uncased-whole-word-masking-finetuned-squad were not used when initializing BertForQuestionAnswering: ['bert.pooler.dense.bias', 'bert.pooler.dense.weight']\n",
            "- This IS expected if you are initializing BertForQuestionAnswering from the checkpoint of a model trained on another task or with another architecture (e.g. initializing a BertForSequenceClassification model from a BertForPreTraining model).\n",
            "- This IS NOT expected if you are initializing BertForQuestionAnswering from the checkpoint of a model that you expect to be exactly identical (initializing a BertForSequenceClassification model from a BertForSequenceClassification model).\n"
          ]
        }
      ],
      "source": [
        "\n",
        "device = torch.device(\"cuda:0\" if torch.cuda.is_available() else \"cpu\")  # Détection du GPU ou fallback sur CPU\n",
        "tokenizer = AutoTokenizer.from_pretrained(\"google-bert/bert-large-uncased-whole-word-masking-finetuned-squad\", use_auth_token=huggingface_token)  # Création du tokenizer\n",
        "model = BertForQuestionAnswering.from_pretrained(\"google-bert/bert-large-uncased-whole-word-masking-finetuned-squad\", use_auth_token=huggingface_token)  # Chargement du modèle pré-entraîné\n",
        "model.to(device)   # Association du modèle au hardware (GPU/CPU)\n",
        "model.eval()       # Mise en mode évaluation pour désactiver le dropout\n",
        "model.zero_grad()  # Réinitialisation des gradients pour éviter l'accumulation"
      ]
    },
    {
      "cell_type": "markdown",
      "source": [
        "## Montage de Google Drive\n",
        "### Dans cette section, nous allons monter Google Drive pour accéder aux données stockées.\n",
        "### Les données sont disponibles via le lien fourni.\n"
      ],
      "metadata": {
        "id": "a2zjpgFvHDca"
      }
    },
    {
      "cell_type": "code",
      "source": [
        "from google.colab import drive\n",
        "drive.mount('/content/drive')  # Montage de Google Drive pour accéder aux fichiers\n",
        "\n",
        "# Les données peuvent être trouvées ici :\n",
        "# https://drive.google.com/file/d/1vziBsOUXqLmADVrNL2g0QGN1l96FbA9g/view?usp=drive_link"
      ],
      "metadata": {
        "colab": {
          "base_uri": "https://localhost:8080/"
        },
        "id": "3Te73ymY_wUh",
        "outputId": "f507c6c3-4b40-47d5-aa2f-098573c79fb0"
      },
      "execution_count": 5,
      "outputs": [
        {
          "output_type": "stream",
          "name": "stdout",
          "text": [
            "Drive already mounted at /content/drive; to attempt to forcibly remount, call drive.mount(\"/content/drive\", force_remount=True).\n"
          ]
        }
      ]
    },
    {
      "cell_type": "markdown",
      "source": [
        "## Chargement des Données JSON\n",
        "### Dans cette section, nous allons charger le fichier JSON contenant les données d'entraînement\n",
        "### puis le convertir en un DataFrame pour une manipulation plus facile.\n"
      ],
      "metadata": {
        "id": "FXXeacVYHGyO"
      }
    },
    {
      "cell_type": "code",
      "source": [
        "with open('./drive/MyDrive/train-v2.0.json') as f:\n",
        "    data = json.load(f)  # Chargement des données JSON\n",
        "\n",
        "df = pd.DataFrame(data['data'])  # Conversion des données en DataFrame\n",
        "print(df.head())  # Affichage des premières lignes du DataFrame"
      ],
      "metadata": {
        "colab": {
          "base_uri": "https://localhost:8080/"
        },
        "id": "cA464hx3_7k_",
        "outputId": "f416237d-6b6b-4627-dcba-6d52f94176a8"
      },
      "execution_count": 6,
      "outputs": [
        {
          "output_type": "stream",
          "name": "stdout",
          "text": [
            "                                            title  \\\n",
            "0                                         Beyoncé   \n",
            "1                                 Frédéric_Chopin   \n",
            "2  Sino-Tibetan_relations_during_the_Ming_dynasty   \n",
            "3                                            IPod   \n",
            "4          The_Legend_of_Zelda:_Twilight_Princess   \n",
            "\n",
            "                                          paragraphs  \n",
            "0  [{'qas': [{'question': 'When did Beyonce start...  \n",
            "1  [{'qas': [{'question': \"What was Frédéric's na...  \n",
            "2  [{'qas': [{'question': 'Who were Wang Jiawei a...  \n",
            "3  [{'qas': [{'question': 'Which company produces...  \n",
            "4  [{'qas': [{'question': 'What category of game ...  \n"
          ]
        }
      ]
    },
    {
      "cell_type": "markdown",
      "source": [
        "## Extraction et Préparation des Données\n",
        "### Cette fonction extrait les questions, les contextes et les réponses du DataFrame initial.\n",
        "### Elle crée un nouveau DataFrame propre pour faciliter l'analyse des données.\n"
      ],
      "metadata": {
        "id": "sg99WJFQHP8p"
      }
    },
    {
      "cell_type": "code",
      "execution_count": 7,
      "metadata": {
        "id": "V49MJ45XROH9",
        "colab": {
          "base_uri": "https://localhost:8080/"
        },
        "outputId": "9e479e46-de85-454d-a896-d099774d163c"
      },
      "outputs": [
        {
          "output_type": "stream",
          "name": "stdout",
          "text": [
            "                                            question  \\\n",
            "0           When did Beyonce start becoming popular?   \n",
            "1  What areas did Beyonce compete in when she was...   \n",
            "2  When did Beyonce leave Destiny's Child and bec...   \n",
            "3      In what city and state did Beyonce  grow up?    \n",
            "4         In which decade did Beyonce become famous?   \n",
            "\n",
            "                                             context               answer  \n",
            "0  Beyoncé Giselle Knowles-Carter (/biːˈjɒnseɪ/ b...    in the late 1990s  \n",
            "1  Beyoncé Giselle Knowles-Carter (/biːˈjɒnseɪ/ b...  singing and dancing  \n",
            "2  Beyoncé Giselle Knowles-Carter (/biːˈjɒnseɪ/ b...                 2003  \n",
            "3  Beyoncé Giselle Knowles-Carter (/biːˈjɒnseɪ/ b...       Houston, Texas  \n",
            "4  Beyoncé Giselle Knowles-Carter (/biːˈjɒnseɪ/ b...           late 1990s  \n",
            "130319\n",
            "                                    question  \\\n",
            "count                                 130319   \n",
            "unique                                130217   \n",
            "top     In what year did World War II start?   \n",
            "freq                                       3   \n",
            "\n",
            "                                                  context  answer  \n",
            "count                                              130319  130319  \n",
            "unique                                              19029   64764  \n",
            "top     Victoria married her first cousin, Prince Albe...          \n",
            "freq                                                   30   43498  \n"
          ]
        }
      ],
      "source": [
        "def get_data():\n",
        "    \"\"\"\n",
        "    Extrait les questions, les contextes et les réponses depuis le DataFrame `df`.\n",
        "\n",
        "    Returns:\n",
        "        pd.DataFrame: Un DataFrame contenant les colonnes 'question', 'context', et 'answer'.\n",
        "    \"\"\"\n",
        "    questions = []  # Liste pour stocker les questions\n",
        "    contexts = []   # Liste pour stocker les contextes\n",
        "    answers = []    # Liste pour stocker les réponses\n",
        "\n",
        "    for item in df['paragraphs']:\n",
        "        for para in item:\n",
        "            context = para['context']\n",
        "            for qa in para['qas']:\n",
        "                question = qa['question']\n",
        "                answer = qa['answers'][0]['text'] if qa['answers'] else \"\"  # Vérifie s'il y a une réponse disponible\n",
        "\n",
        "                questions.append(question)\n",
        "                contexts.append(context)\n",
        "                answers.append(answer)\n",
        "\n",
        "    # Création d'un DataFrame propre\n",
        "    data_clean = pd.DataFrame({\n",
        "        'question': questions,\n",
        "        'context': contexts,\n",
        "        'answer': answers\n",
        "    })\n",
        "    return data_clean\n",
        "\n",
        "# Chargement des données extraites\n",
        "data = get_data()\n",
        "\n",
        "# Affichage des premières lignes du DataFrame\n",
        "print(data.head())\n",
        "\n",
        "# Affichage du nombre total d'exemples\n",
        "print(len(data))\n",
        "\n",
        "# Résumé statistique des données\n",
        "print(data.describe())\n"
      ]
    },
    {
      "cell_type": "code",
      "execution_count": 8,
      "metadata": {
        "id": "tlKGJ7Er-5TA"
      },
      "outputs": [],
      "source": [
        "## Sélection d'un Échantillon des Données\n",
        "# Sélection aléatoire de 200 exemples à partir des données\n",
        "data = data.sample(200)"
      ]
    },
    {
      "cell_type": "markdown",
      "source": [
        "## Fonction de Prédiction pour le Question Answering (QA)\n"
      ],
      "metadata": {
        "id": "MnquAS51Hebi"
      }
    },
    {
      "cell_type": "code",
      "execution_count": 9,
      "metadata": {
        "id": "Bz7539fLRRdb"
      },
      "outputs": [],
      "source": [
        "def get_prediction(inputs):\n",
        "    \"\"\"\n",
        "    Prédit la réponse à partir des entrées tokenisées.\n",
        "\n",
        "    Args:\n",
        "        inputs (dict): Dictionnaire contenant 'input_ids' et 'attention_mask' pour le modèle.\n",
        "\n",
        "    Returns:\n",
        "        str: La réponse prédite par le modèle.\n",
        "    \"\"\"\n",
        "    input_ids = inputs['input_ids'].to(device)  # Envoi des input_ids vers le GPU/CPU\n",
        "    attention_mask = inputs['attention_mask'].to(device)  # Envoi du masque d'attention vers le GPU/CPU\n",
        "\n",
        "    with torch.no_grad():  # Désactivation de la mise à jour des gradients pour économiser de la mémoire\n",
        "        outputs = model(input_ids=input_ids, attention_mask=attention_mask)\n",
        "        start_scores, end_scores = outputs.start_logits, outputs.end_logits\n",
        "\n",
        "        # Identification des indices de début et de fin de la réponse\n",
        "        start_index = torch.argmax(start_scores, dim=1)\n",
        "        end_index = torch.argmax(end_scores, dim=1)\n",
        "\n",
        "        # Décodage de la réponse prédite en texte\n",
        "        predicted_answer = tokenizer.decode(input_ids[0][start_index[0]:end_index[0]+1])\n",
        "\n",
        "    return predicted_answer"
      ]
    },
    {
      "cell_type": "markdown",
      "source": [
        "## Tokenisation des Paires Question-Contexte\n",
        "### Cette section effectue la tokenisation des questions et des contextes,\n",
        "### en limitant la longueur maximale des séquences à 512 tokens pour la compatibilité avec le modèle.\n"
      ],
      "metadata": {
        "id": "4yNrX8SZHkXs"
      }
    },
    {
      "cell_type": "code",
      "execution_count": 10,
      "metadata": {
        "id": "rb39LcYFRPxN"
      },
      "outputs": [],
      "source": [
        "data['inputs'] = data.apply(lambda x: tokenizer.encode_plus(\n",
        "    x['question'],               # Question à tokeniser\n",
        "    x['context'],                # Contexte à tokeniser\n",
        "    add_special_tokens=True,     # Ajout des tokens spéciaux [CLS] et [SEP]\n",
        "    return_tensors='pt',         # Retourner les résultats sous forme de tenseurs PyTorch\n",
        "    truncation=True,             # Tronquer les séquences trop longues\n",
        "    max_length=512               # Limiter la longueur maximale à 512 tokens\n",
        "), axis=1)"
      ]
    },
    {
      "cell_type": "markdown",
      "source": [
        "## Application des Prédictions sur les Données"
      ],
      "metadata": {
        "id": "myycxeGKHpRx"
      }
    },
    {
      "cell_type": "code",
      "execution_count": 11,
      "metadata": {
        "id": "KGfXVcibRTdE"
      },
      "outputs": [],
      "source": [
        "### Cette section applique la fonction de prédiction `get_prediction` à chaque paire question-contexte tokenisée.\n",
        "\n",
        "data['predicted_answer'] = data['inputs'].apply(get_prediction)"
      ]
    },
    {
      "cell_type": "code",
      "execution_count": 12,
      "metadata": {
        "id": "aQVtgw3uRUXx",
        "colab": {
          "base_uri": "https://localhost:8080/"
        },
        "outputId": "28891e52-3b12-4910-b46d-7b0d54704ad0"
      },
      "outputs": [
        {
          "output_type": "stream",
          "name": "stdout",
          "text": [
            "                                                 question  \\\n",
            "24150   Where did the  coat of arms proper and a lozen...   \n",
            "72278   What online publication ran a feature from a C...   \n",
            "38875   When does the FBI work with the US Coast Guard...   \n",
            "92983   What could be decided with a simple majority o...   \n",
            "100426  Which Tennessee law enforcement agency looks f...   \n",
            "\n",
            "                    predicted_answer                        answer  \n",
            "24150                         poland                        Poland  \n",
            "72278                        cracked                       Cracked  \n",
            "38875   seaport and airport security  seaport and airport security  \n",
            "92983        alteration of territory                                \n",
            "100426                highway patrol                Highway Patrol  \n"
          ]
        }
      ],
      "source": [
        "# Affichage des premières prédictions\n",
        "print(data[['question', 'predicted_answer', 'answer']].head())"
      ]
    },
    {
      "cell_type": "markdown",
      "source": [
        "## Interprétation des résultats :\n",
        "\n",
        "Les résultats des premières prédictions montrent des performances intéressantes, mais aussi des aspects à améliorer. On constate que le modèle réussit à identifier correctement certaines réponses, comme dans le cas de la question sur la publication en ligne où \"Cracked\" est bien prédit. Cependant, des erreurs de casse se manifestent, par exemple avec \"poland\" au lieu de \"Poland\", ce qui pourrait affecter l'évaluation de la précision si celle-ci est sensible à la casse. De plus, certaines réponses prédites sont incomplètes ou manquent de précision, comme dans la quatrième question où aucune réponse pertinente n'est fournie, ce qui indique que le modèle peut rencontrer des difficultés à identifier des réponses lorsque le contexte est plus complexe. Par ailleurs, des incohérences sémantiques se produisent, notamment lorsque la réponse prédite correspond partiellement à la réponse attendue sans en saisir pleinement le sens. Cela suggère que le modèle a parfois du mal à bien comprendre le contexte global de la question et de la réponse.\n",
        "\n"
      ],
      "metadata": {
        "id": "eMNLquIVKhcR"
      }
    },
    {
      "cell_type": "markdown",
      "source": [
        "## Sélection d'un Exemple pour l'Analyse\n",
        "### Cette section sélectionne la première paire question-contexte du DataFrame\n",
        "### pour une analyse plus détaillée."
      ],
      "metadata": {
        "id": "tVnY5ecmHzu0"
      }
    },
    {
      "cell_type": "code",
      "execution_count": 13,
      "metadata": {
        "id": "8IJeckLfH0lI"
      },
      "outputs": [],
      "source": [
        "question = data['question'].iloc[0]  # Sélection de la première question\n",
        "context = data['context'].iloc[0]    # Sélection du contexte correspondant"
      ]
    },
    {
      "cell_type": "code",
      "execution_count": 14,
      "metadata": {
        "colab": {
          "base_uri": "https://localhost:8080/"
        },
        "id": "sOrCexbR-5TB",
        "outputId": "f2b72d7c-f82f-46b8-c8b6-41dcfe2729d3"
      },
      "outputs": [
        {
          "output_type": "stream",
          "name": "stdout",
          "text": [
            "Question: Where did the  coat of arms proper and a lozenge granted to women not develoupe?\n",
            "Context: Also, the tradition of differentiating between the coat of arms proper and a lozenge granted to women did not develop in Poland. Usually men inherited the coat of arms from their fathers. Also, the brisure was rarely used.\n"
          ]
        }
      ],
      "source": [
        "print(f\"Question: {question}\")\n",
        "print(f\"Context: {context}\")"
      ]
    },
    {
      "cell_type": "markdown",
      "source": [
        "## Interprétation des résultats :\n",
        "\n",
        "Dans cet exemple, la question concerne l'endroit où la tradition de différencier les armoiries proprement dites et le losange accordé aux femmes ne s'est pas développée. Le contexte fourni indique clairement que cette tradition \"ne s'est pas développée en Pologne\", ce qui signifie que la réponse attendue est \"Pologne\". Cependant, le modèle a prédit \"poland\", ce qui, bien que techniquement correct, ne respecte pas la casse d'origine. Cela montre que le modèle a bien identifié l'information pertinente dans le contexte, mais n'a pas conservé la casse, ce qui pourrait influencer l'évaluation des performances si celle-ci est sensible à la casse. Ce résultat suggère que le modèle comprend le lien sémantique entre la question et le contexte, mais qu'il serait bénéfique d'ajuster le post-traitement des réponses pour assurer la cohérence avec la casse des mots originaux du texte."
      ],
      "metadata": {
        "id": "lf-ouvz3KmKj"
      }
    },
    {
      "cell_type": "markdown",
      "source": [
        "## Préparation des Données pour l'Interprétation\n",
        "### Cette section effectue la tokenisation de la paire question-contexte sélectionnée\n",
        "### et prépare les entrées pour le modèle."
      ],
      "metadata": {
        "id": "v14rXoCjH13-"
      }
    },
    {
      "cell_type": "code",
      "execution_count": 15,
      "metadata": {
        "id": "6FHvocXaH1hU"
      },
      "outputs": [],
      "source": [
        "inputs = tokenizer.encode_plus(\n",
        "    question,\n",
        "    context,\n",
        "    add_special_tokens=True,  # Ajout des tokens spéciaux [CLS] et [SEP]\n",
        "    return_tensors='pt',      # Retour des données sous forme de tenseurs PyTorch\n",
        "    truncation=True,          # Tronquage des séquences trop longues\n",
        "    max_length=512            # Limitation de la séquence à 512 tokens\n",
        ")\n",
        "\n",
        "input_ids = inputs['input_ids'].to(device)                  # Envoi des input_ids vers le GPU/CPU\n",
        "attention_mask = inputs['attention_mask'].to(device)        # Masque d'attention pour le modèle\n",
        "all_tokens = tokenizer.convert_ids_to_tokens(input_ids[0])  # Conversion des IDs en tokens lisibles"
      ]
    },
    {
      "cell_type": "markdown",
      "source": [
        "## Génération des Prédictions du Modèle\n",
        "### Cette section génère les scores de début et de fin des réponses à partir du modèle.\n"
      ],
      "metadata": {
        "id": "q98G_klvH2Zw"
      }
    },
    {
      "cell_type": "code",
      "execution_count": 16,
      "metadata": {
        "id": "4S1aVNbaH2Um"
      },
      "outputs": [],
      "source": [
        "outputs = model(input_ids=input_ids, attention_mask=attention_mask)  # Prédiction du modèle\n",
        "start_scores, end_scores = outputs.start_logits, outputs.end_logits  # Scores des positions de début et de fin des réponses"
      ]
    },
    {
      "cell_type": "markdown",
      "source": [
        "## Extraction de la Réponse Prédite\n",
        "### Cette section identifie les indices de début et de fin de la réponse\n",
        "### puis décode la réponse prédite en texte lisible."
      ],
      "metadata": {
        "id": "squW4eu7H27Q"
      }
    },
    {
      "cell_type": "code",
      "execution_count": 17,
      "metadata": {
        "id": "1sRetum1H3Mg"
      },
      "outputs": [],
      "source": [
        "start_index = torch.argmax(start_scores)  # Index du début de la réponse avec le score le plus élevé\n",
        "end_index = torch.argmax(end_scores)      # Index de la fin de la réponse avec le score le plus élevé\n",
        "\n",
        "predicted_answer = tokenizer.decode(input_ids[0][start_index:end_index+1])  # Décodage de la réponse prédite"
      ]
    },
    {
      "cell_type": "code",
      "execution_count": 18,
      "metadata": {
        "colab": {
          "base_uri": "https://localhost:8080/"
        },
        "id": "HLsTOnJgH4Pr",
        "outputId": "9b238324-dfb9-4a19-b818-2a1308b5b46e"
      },
      "outputs": [
        {
          "output_type": "stream",
          "name": "stdout",
          "text": [
            "Question: Where did the  coat of arms proper and a lozenge granted to women not develoupe?\n",
            "Predicted Answer: poland\n"
          ]
        }
      ],
      "source": [
        "print('Question:', question)\n",
        "print('Predicted Answer:', predicted_answer)\n"
      ]
    },
    {
      "cell_type": "markdown",
      "source": [
        "## Attribution avec Captum\n",
        "### Cette section utilise la méthode des gradients intégrés (Layer Integrated Gradients)\n",
        "### pour interpréter les contributions des tokens à la prédiction du modèle.\n"
      ],
      "metadata": {
        "id": "iTBzzmwnIVe-"
      }
    },
    {
      "cell_type": "code",
      "execution_count": 19,
      "metadata": {
        "id": "RffpmiJUH5D9"
      },
      "outputs": [],
      "source": [
        "lig = LayerIntegratedGradients(\n",
        "    lambda x: model(x, attention_mask=attention_mask)[0].max(1).values,  # Fonction de prédiction pour l'attribution\n",
        "    model.bert.embeddings  # Cible les embeddings du modèle BERT\n",
        ")\n",
        "\n",
        "# Calcul des attributions pour les positions de début et de fin de la réponse\n",
        "attributions_start, delta_start = lig.attribute(\n",
        "    inputs=input_ids,\n",
        "    baselines=torch.zeros_like(input_ids),  # Baseline neutre pour la comparaison\n",
        "    return_convergence_delta=True  # Retourne également le delta de convergence\n",
        ")\n",
        "\n",
        "attributions_end, delta_end = lig.attribute(\n",
        "    inputs=input_ids,\n",
        "    baselines=torch.zeros_like(input_ids),\n",
        "    return_convergence_delta=True\n",
        ")"
      ]
    },
    {
      "cell_type": "markdown",
      "source": [
        "## Fonction pour Résumer les Attributions\n",
        "### Cette fonction normalise et résume les attributions des tokens\n",
        "### en les réduisant à une représentation plus simple."
      ],
      "metadata": {
        "id": "vx3LcxGtH4YS"
      }
    },
    {
      "cell_type": "code",
      "execution_count": 20,
      "metadata": {
        "id": "4quwNh82H64w"
      },
      "outputs": [],
      "source": [
        "def summarize_attributions(attributions):\n",
        "    \"\"\"\n",
        "    Résume et normalise les attributions des tokens.\n",
        "\n",
        "    Args:\n",
        "        attributions (torch.Tensor): Tenseur des attributions calculées par Captum.\n",
        "\n",
        "    Returns:\n",
        "        torch.Tensor: Attributions normalisées pour chaque token.\n",
        "    \"\"\"\n",
        "    attributions = attributions.sum(dim=-1).squeeze(0)        # Somme des attributions sur la dernière dimension\n",
        "    attributions = attributions / torch.norm(attributions)    # Normalisation par la norme L2\n",
        "    return attributions\n",
        "\n",
        "# Résumé des attributions pour les positions de début et de fin de la réponse\n",
        "attributions_start_sum = summarize_attributions(attributions_start)\n",
        "attributions_end_sum = summarize_attributions(attributions_end)\n"
      ]
    },
    {
      "cell_type": "markdown",
      "source": [
        "## Visualisation des Attributions\n",
        "### Cette section visualise l'importance des tokens dans la prédiction du modèle\n",
        "### à l'aide de la bibliothèque Captum."
      ],
      "metadata": {
        "id": "x41BAxeQH4w4"
      }
    },
    {
      "cell_type": "code",
      "execution_count": 21,
      "metadata": {
        "colab": {
          "base_uri": "https://localhost:8080/",
          "height": 452
        },
        "id": "vqoGbG3cH7_C",
        "outputId": "de3d0e17-0047-4b2b-a4da-29c8d35cf243"
      },
      "outputs": [
        {
          "output_type": "display_data",
          "data": {
            "text/plain": [
              "<IPython.core.display.HTML object>"
            ],
            "text/html": [
              "<table width: 100%><div style=\"border-top: 1px solid; margin-top: 5px;             padding-top: 5px; display: inline-block\"><b>Legend: </b><span style=\"display: inline-block; width: 10px; height: 10px;                 border: 1px solid; background-color:                 hsl(0, 75%, 60%)\"></span> Negative  <span style=\"display: inline-block; width: 10px; height: 10px;                 border: 1px solid; background-color:                 hsl(0, 75%, 100%)\"></span> Neutral  <span style=\"display: inline-block; width: 10px; height: 10px;                 border: 1px solid; background-color:                 hsl(120, 75%, 50%)\"></span> Positive  </div><tr><th>True Label</th><th>Predicted Label</th><th>Attribution Label</th><th>Attribution Score</th><th>Word Importance</th><tr><td><text style=\"padding-right:2em\"><b>48</b></text></td><td><text style=\"padding-right:2em\"><b>48 (0.98)</b></text></td><td><text style=\"padding-right:2em\"><b></b></text></td><td><text style=\"padding-right:2em\"><b>1.50</b></text></td><td><mark style=\"background-color: hsl(120, 75%, 100%); opacity:1.0;                     line-height:1.75\"><font color=\"black\"> [CLS]                    </font></mark><mark style=\"background-color: hsl(120, 75%, 67%); opacity:1.0;                     line-height:1.75\"><font color=\"black\"> where                    </font></mark><mark style=\"background-color: hsl(120, 75%, 88%); opacity:1.0;                     line-height:1.75\"><font color=\"black\"> did                    </font></mark><mark style=\"background-color: hsl(0, 75%, 100%); opacity:1.0;                     line-height:1.75\"><font color=\"black\"> the                    </font></mark><mark style=\"background-color: hsl(120, 75%, 93%); opacity:1.0;                     line-height:1.75\"><font color=\"black\"> coat                    </font></mark><mark style=\"background-color: hsl(0, 75%, 97%); opacity:1.0;                     line-height:1.75\"><font color=\"black\"> of                    </font></mark><mark style=\"background-color: hsl(0, 75%, 100%); opacity:1.0;                     line-height:1.75\"><font color=\"black\"> arms                    </font></mark><mark style=\"background-color: hsl(120, 75%, 97%); opacity:1.0;                     line-height:1.75\"><font color=\"black\"> proper                    </font></mark><mark style=\"background-color: hsl(120, 75%, 98%); opacity:1.0;                     line-height:1.75\"><font color=\"black\"> and                    </font></mark><mark style=\"background-color: hsl(120, 75%, 92%); opacity:1.0;                     line-height:1.75\"><font color=\"black\"> a                    </font></mark><mark style=\"background-color: hsl(120, 75%, 95%); opacity:1.0;                     line-height:1.75\"><font color=\"black\"> lo                    </font></mark><mark style=\"background-color: hsl(120, 75%, 97%); opacity:1.0;                     line-height:1.75\"><font color=\"black\"> ##zen                    </font></mark><mark style=\"background-color: hsl(120, 75%, 98%); opacity:1.0;                     line-height:1.75\"><font color=\"black\"> ##ge                    </font></mark><mark style=\"background-color: hsl(120, 75%, 97%); opacity:1.0;                     line-height:1.75\"><font color=\"black\"> granted                    </font></mark><mark style=\"background-color: hsl(120, 75%, 100%); opacity:1.0;                     line-height:1.75\"><font color=\"black\"> to                    </font></mark><mark style=\"background-color: hsl(0, 75%, 95%); opacity:1.0;                     line-height:1.75\"><font color=\"black\"> women                    </font></mark><mark style=\"background-color: hsl(120, 75%, 95%); opacity:1.0;                     line-height:1.75\"><font color=\"black\"> not                    </font></mark><mark style=\"background-color: hsl(120, 75%, 97%); opacity:1.0;                     line-height:1.75\"><font color=\"black\"> dev                    </font></mark><mark style=\"background-color: hsl(0, 75%, 100%); opacity:1.0;                     line-height:1.75\"><font color=\"black\"> ##elo                    </font></mark><mark style=\"background-color: hsl(0, 75%, 100%); opacity:1.0;                     line-height:1.75\"><font color=\"black\"> ##up                    </font></mark><mark style=\"background-color: hsl(0, 75%, 100%); opacity:1.0;                     line-height:1.75\"><font color=\"black\"> ##e                    </font></mark><mark style=\"background-color: hsl(120, 75%, 92%); opacity:1.0;                     line-height:1.75\"><font color=\"black\"> ?                    </font></mark><mark style=\"background-color: hsl(0, 75%, 98%); opacity:1.0;                     line-height:1.75\"><font color=\"black\"> [SEP]                    </font></mark><mark style=\"background-color: hsl(120, 75%, 100%); opacity:1.0;                     line-height:1.75\"><font color=\"black\"> also                    </font></mark><mark style=\"background-color: hsl(120, 75%, 100%); opacity:1.0;                     line-height:1.75\"><font color=\"black\"> ,                    </font></mark><mark style=\"background-color: hsl(0, 75%, 99%); opacity:1.0;                     line-height:1.75\"><font color=\"black\"> the                    </font></mark><mark style=\"background-color: hsl(0, 75%, 100%); opacity:1.0;                     line-height:1.75\"><font color=\"black\"> tradition                    </font></mark><mark style=\"background-color: hsl(120, 75%, 98%); opacity:1.0;                     line-height:1.75\"><font color=\"black\"> of                    </font></mark><mark style=\"background-color: hsl(120, 75%, 99%); opacity:1.0;                     line-height:1.75\"><font color=\"black\"> different                    </font></mark><mark style=\"background-color: hsl(0, 75%, 100%); opacity:1.0;                     line-height:1.75\"><font color=\"black\"> ##iating                    </font></mark><mark style=\"background-color: hsl(0, 75%, 99%); opacity:1.0;                     line-height:1.75\"><font color=\"black\"> between                    </font></mark><mark style=\"background-color: hsl(0, 75%, 100%); opacity:1.0;                     line-height:1.75\"><font color=\"black\"> the                    </font></mark><mark style=\"background-color: hsl(120, 75%, 99%); opacity:1.0;                     line-height:1.75\"><font color=\"black\"> coat                    </font></mark><mark style=\"background-color: hsl(120, 75%, 98%); opacity:1.0;                     line-height:1.75\"><font color=\"black\"> of                    </font></mark><mark style=\"background-color: hsl(120, 75%, 99%); opacity:1.0;                     line-height:1.75\"><font color=\"black\"> arms                    </font></mark><mark style=\"background-color: hsl(120, 75%, 100%); opacity:1.0;                     line-height:1.75\"><font color=\"black\"> proper                    </font></mark><mark style=\"background-color: hsl(120, 75%, 99%); opacity:1.0;                     line-height:1.75\"><font color=\"black\"> and                    </font></mark><mark style=\"background-color: hsl(120, 75%, 98%); opacity:1.0;                     line-height:1.75\"><font color=\"black\"> a                    </font></mark><mark style=\"background-color: hsl(0, 75%, 100%); opacity:1.0;                     line-height:1.75\"><font color=\"black\"> lo                    </font></mark><mark style=\"background-color: hsl(120, 75%, 99%); opacity:1.0;                     line-height:1.75\"><font color=\"black\"> ##zen                    </font></mark><mark style=\"background-color: hsl(120, 75%, 98%); opacity:1.0;                     line-height:1.75\"><font color=\"black\"> ##ge                    </font></mark><mark style=\"background-color: hsl(120, 75%, 95%); opacity:1.0;                     line-height:1.75\"><font color=\"black\"> granted                    </font></mark><mark style=\"background-color: hsl(120, 75%, 98%); opacity:1.0;                     line-height:1.75\"><font color=\"black\"> to                    </font></mark><mark style=\"background-color: hsl(0, 75%, 99%); opacity:1.0;                     line-height:1.75\"><font color=\"black\"> women                    </font></mark><mark style=\"background-color: hsl(0, 75%, 94%); opacity:1.0;                     line-height:1.75\"><font color=\"black\"> did                    </font></mark><mark style=\"background-color: hsl(0, 75%, 82%); opacity:1.0;                     line-height:1.75\"><font color=\"black\"> not                    </font></mark><mark style=\"background-color: hsl(0, 75%, 96%); opacity:1.0;                     line-height:1.75\"><font color=\"black\"> develop                    </font></mark><mark style=\"background-color: hsl(0, 75%, 98%); opacity:1.0;                     line-height:1.75\"><font color=\"black\"> in                    </font></mark><mark style=\"background-color: hsl(0, 75%, 95%); opacity:1.0;                     line-height:1.75\"><font color=\"black\"> poland                    </font></mark><mark style=\"background-color: hsl(0, 75%, 100%); opacity:1.0;                     line-height:1.75\"><font color=\"black\"> .                    </font></mark><mark style=\"background-color: hsl(0, 75%, 100%); opacity:1.0;                     line-height:1.75\"><font color=\"black\"> usually                    </font></mark><mark style=\"background-color: hsl(120, 75%, 100%); opacity:1.0;                     line-height:1.75\"><font color=\"black\"> men                    </font></mark><mark style=\"background-color: hsl(0, 75%, 100%); opacity:1.0;                     line-height:1.75\"><font color=\"black\"> inherited                    </font></mark><mark style=\"background-color: hsl(0, 75%, 100%); opacity:1.0;                     line-height:1.75\"><font color=\"black\"> the                    </font></mark><mark style=\"background-color: hsl(0, 75%, 100%); opacity:1.0;                     line-height:1.75\"><font color=\"black\"> coat                    </font></mark><mark style=\"background-color: hsl(120, 75%, 99%); opacity:1.0;                     line-height:1.75\"><font color=\"black\"> of                    </font></mark><mark style=\"background-color: hsl(120, 75%, 100%); opacity:1.0;                     line-height:1.75\"><font color=\"black\"> arms                    </font></mark><mark style=\"background-color: hsl(120, 75%, 100%); opacity:1.0;                     line-height:1.75\"><font color=\"black\"> from                    </font></mark><mark style=\"background-color: hsl(0, 75%, 100%); opacity:1.0;                     line-height:1.75\"><font color=\"black\"> their                    </font></mark><mark style=\"background-color: hsl(120, 75%, 100%); opacity:1.0;                     line-height:1.75\"><font color=\"black\"> fathers                    </font></mark><mark style=\"background-color: hsl(120, 75%, 98%); opacity:1.0;                     line-height:1.75\"><font color=\"black\"> .                    </font></mark><mark style=\"background-color: hsl(120, 75%, 97%); opacity:1.0;                     line-height:1.75\"><font color=\"black\"> also                    </font></mark><mark style=\"background-color: hsl(120, 75%, 100%); opacity:1.0;                     line-height:1.75\"><font color=\"black\"> ,                    </font></mark><mark style=\"background-color: hsl(0, 75%, 100%); opacity:1.0;                     line-height:1.75\"><font color=\"black\"> the                    </font></mark><mark style=\"background-color: hsl(120, 75%, 100%); opacity:1.0;                     line-height:1.75\"><font color=\"black\"> br                    </font></mark><mark style=\"background-color: hsl(0, 75%, 100%); opacity:1.0;                     line-height:1.75\"><font color=\"black\"> ##is                    </font></mark><mark style=\"background-color: hsl(120, 75%, 100%); opacity:1.0;                     line-height:1.75\"><font color=\"black\"> ##ure                    </font></mark><mark style=\"background-color: hsl(120, 75%, 100%); opacity:1.0;                     line-height:1.75\"><font color=\"black\"> was                    </font></mark><mark style=\"background-color: hsl(120, 75%, 99%); opacity:1.0;                     line-height:1.75\"><font color=\"black\"> rarely                    </font></mark><mark style=\"background-color: hsl(120, 75%, 98%); opacity:1.0;                     line-height:1.75\"><font color=\"black\"> used                    </font></mark><mark style=\"background-color: hsl(120, 75%, 99%); opacity:1.0;                     line-height:1.75\"><font color=\"black\"> .                    </font></mark><mark style=\"background-color: hsl(120, 75%, 96%); opacity:1.0;                     line-height:1.75\"><font color=\"black\"> [SEP]                    </font></mark></td><tr></table>"
            ]
          },
          "metadata": {}
        },
        {
          "output_type": "display_data",
          "data": {
            "text/plain": [
              "<IPython.core.display.HTML object>"
            ],
            "text/html": [
              "<table width: 100%><div style=\"border-top: 1px solid; margin-top: 5px;             padding-top: 5px; display: inline-block\"><b>Legend: </b><span style=\"display: inline-block; width: 10px; height: 10px;                 border: 1px solid; background-color:                 hsl(0, 75%, 60%)\"></span> Negative  <span style=\"display: inline-block; width: 10px; height: 10px;                 border: 1px solid; background-color:                 hsl(0, 75%, 100%)\"></span> Neutral  <span style=\"display: inline-block; width: 10px; height: 10px;                 border: 1px solid; background-color:                 hsl(120, 75%, 50%)\"></span> Positive  </div><tr><th>True Label</th><th>Predicted Label</th><th>Attribution Label</th><th>Attribution Score</th><th>Word Importance</th><tr><td><text style=\"padding-right:2em\"><b>48</b></text></td><td><text style=\"padding-right:2em\"><b>48 (0.99)</b></text></td><td><text style=\"padding-right:2em\"><b></b></text></td><td><text style=\"padding-right:2em\"><b>1.50</b></text></td><td><mark style=\"background-color: hsl(120, 75%, 100%); opacity:1.0;                     line-height:1.75\"><font color=\"black\"> [CLS]                    </font></mark><mark style=\"background-color: hsl(120, 75%, 67%); opacity:1.0;                     line-height:1.75\"><font color=\"black\"> where                    </font></mark><mark style=\"background-color: hsl(120, 75%, 88%); opacity:1.0;                     line-height:1.75\"><font color=\"black\"> did                    </font></mark><mark style=\"background-color: hsl(0, 75%, 100%); opacity:1.0;                     line-height:1.75\"><font color=\"black\"> the                    </font></mark><mark style=\"background-color: hsl(120, 75%, 93%); opacity:1.0;                     line-height:1.75\"><font color=\"black\"> coat                    </font></mark><mark style=\"background-color: hsl(0, 75%, 97%); opacity:1.0;                     line-height:1.75\"><font color=\"black\"> of                    </font></mark><mark style=\"background-color: hsl(0, 75%, 100%); opacity:1.0;                     line-height:1.75\"><font color=\"black\"> arms                    </font></mark><mark style=\"background-color: hsl(120, 75%, 97%); opacity:1.0;                     line-height:1.75\"><font color=\"black\"> proper                    </font></mark><mark style=\"background-color: hsl(120, 75%, 98%); opacity:1.0;                     line-height:1.75\"><font color=\"black\"> and                    </font></mark><mark style=\"background-color: hsl(120, 75%, 92%); opacity:1.0;                     line-height:1.75\"><font color=\"black\"> a                    </font></mark><mark style=\"background-color: hsl(120, 75%, 95%); opacity:1.0;                     line-height:1.75\"><font color=\"black\"> lo                    </font></mark><mark style=\"background-color: hsl(120, 75%, 97%); opacity:1.0;                     line-height:1.75\"><font color=\"black\"> ##zen                    </font></mark><mark style=\"background-color: hsl(120, 75%, 98%); opacity:1.0;                     line-height:1.75\"><font color=\"black\"> ##ge                    </font></mark><mark style=\"background-color: hsl(120, 75%, 97%); opacity:1.0;                     line-height:1.75\"><font color=\"black\"> granted                    </font></mark><mark style=\"background-color: hsl(120, 75%, 100%); opacity:1.0;                     line-height:1.75\"><font color=\"black\"> to                    </font></mark><mark style=\"background-color: hsl(0, 75%, 95%); opacity:1.0;                     line-height:1.75\"><font color=\"black\"> women                    </font></mark><mark style=\"background-color: hsl(120, 75%, 95%); opacity:1.0;                     line-height:1.75\"><font color=\"black\"> not                    </font></mark><mark style=\"background-color: hsl(120, 75%, 97%); opacity:1.0;                     line-height:1.75\"><font color=\"black\"> dev                    </font></mark><mark style=\"background-color: hsl(0, 75%, 100%); opacity:1.0;                     line-height:1.75\"><font color=\"black\"> ##elo                    </font></mark><mark style=\"background-color: hsl(0, 75%, 100%); opacity:1.0;                     line-height:1.75\"><font color=\"black\"> ##up                    </font></mark><mark style=\"background-color: hsl(0, 75%, 100%); opacity:1.0;                     line-height:1.75\"><font color=\"black\"> ##e                    </font></mark><mark style=\"background-color: hsl(120, 75%, 92%); opacity:1.0;                     line-height:1.75\"><font color=\"black\"> ?                    </font></mark><mark style=\"background-color: hsl(0, 75%, 98%); opacity:1.0;                     line-height:1.75\"><font color=\"black\"> [SEP]                    </font></mark><mark style=\"background-color: hsl(120, 75%, 100%); opacity:1.0;                     line-height:1.75\"><font color=\"black\"> also                    </font></mark><mark style=\"background-color: hsl(120, 75%, 100%); opacity:1.0;                     line-height:1.75\"><font color=\"black\"> ,                    </font></mark><mark style=\"background-color: hsl(0, 75%, 99%); opacity:1.0;                     line-height:1.75\"><font color=\"black\"> the                    </font></mark><mark style=\"background-color: hsl(0, 75%, 100%); opacity:1.0;                     line-height:1.75\"><font color=\"black\"> tradition                    </font></mark><mark style=\"background-color: hsl(120, 75%, 98%); opacity:1.0;                     line-height:1.75\"><font color=\"black\"> of                    </font></mark><mark style=\"background-color: hsl(120, 75%, 99%); opacity:1.0;                     line-height:1.75\"><font color=\"black\"> different                    </font></mark><mark style=\"background-color: hsl(0, 75%, 100%); opacity:1.0;                     line-height:1.75\"><font color=\"black\"> ##iating                    </font></mark><mark style=\"background-color: hsl(0, 75%, 99%); opacity:1.0;                     line-height:1.75\"><font color=\"black\"> between                    </font></mark><mark style=\"background-color: hsl(0, 75%, 100%); opacity:1.0;                     line-height:1.75\"><font color=\"black\"> the                    </font></mark><mark style=\"background-color: hsl(120, 75%, 99%); opacity:1.0;                     line-height:1.75\"><font color=\"black\"> coat                    </font></mark><mark style=\"background-color: hsl(120, 75%, 98%); opacity:1.0;                     line-height:1.75\"><font color=\"black\"> of                    </font></mark><mark style=\"background-color: hsl(120, 75%, 99%); opacity:1.0;                     line-height:1.75\"><font color=\"black\"> arms                    </font></mark><mark style=\"background-color: hsl(120, 75%, 100%); opacity:1.0;                     line-height:1.75\"><font color=\"black\"> proper                    </font></mark><mark style=\"background-color: hsl(120, 75%, 99%); opacity:1.0;                     line-height:1.75\"><font color=\"black\"> and                    </font></mark><mark style=\"background-color: hsl(120, 75%, 98%); opacity:1.0;                     line-height:1.75\"><font color=\"black\"> a                    </font></mark><mark style=\"background-color: hsl(0, 75%, 100%); opacity:1.0;                     line-height:1.75\"><font color=\"black\"> lo                    </font></mark><mark style=\"background-color: hsl(120, 75%, 99%); opacity:1.0;                     line-height:1.75\"><font color=\"black\"> ##zen                    </font></mark><mark style=\"background-color: hsl(120, 75%, 98%); opacity:1.0;                     line-height:1.75\"><font color=\"black\"> ##ge                    </font></mark><mark style=\"background-color: hsl(120, 75%, 95%); opacity:1.0;                     line-height:1.75\"><font color=\"black\"> granted                    </font></mark><mark style=\"background-color: hsl(120, 75%, 98%); opacity:1.0;                     line-height:1.75\"><font color=\"black\"> to                    </font></mark><mark style=\"background-color: hsl(0, 75%, 99%); opacity:1.0;                     line-height:1.75\"><font color=\"black\"> women                    </font></mark><mark style=\"background-color: hsl(0, 75%, 94%); opacity:1.0;                     line-height:1.75\"><font color=\"black\"> did                    </font></mark><mark style=\"background-color: hsl(0, 75%, 82%); opacity:1.0;                     line-height:1.75\"><font color=\"black\"> not                    </font></mark><mark style=\"background-color: hsl(0, 75%, 96%); opacity:1.0;                     line-height:1.75\"><font color=\"black\"> develop                    </font></mark><mark style=\"background-color: hsl(0, 75%, 98%); opacity:1.0;                     line-height:1.75\"><font color=\"black\"> in                    </font></mark><mark style=\"background-color: hsl(0, 75%, 95%); opacity:1.0;                     line-height:1.75\"><font color=\"black\"> poland                    </font></mark><mark style=\"background-color: hsl(0, 75%, 100%); opacity:1.0;                     line-height:1.75\"><font color=\"black\"> .                    </font></mark><mark style=\"background-color: hsl(0, 75%, 100%); opacity:1.0;                     line-height:1.75\"><font color=\"black\"> usually                    </font></mark><mark style=\"background-color: hsl(120, 75%, 100%); opacity:1.0;                     line-height:1.75\"><font color=\"black\"> men                    </font></mark><mark style=\"background-color: hsl(0, 75%, 100%); opacity:1.0;                     line-height:1.75\"><font color=\"black\"> inherited                    </font></mark><mark style=\"background-color: hsl(0, 75%, 100%); opacity:1.0;                     line-height:1.75\"><font color=\"black\"> the                    </font></mark><mark style=\"background-color: hsl(0, 75%, 100%); opacity:1.0;                     line-height:1.75\"><font color=\"black\"> coat                    </font></mark><mark style=\"background-color: hsl(120, 75%, 99%); opacity:1.0;                     line-height:1.75\"><font color=\"black\"> of                    </font></mark><mark style=\"background-color: hsl(120, 75%, 100%); opacity:1.0;                     line-height:1.75\"><font color=\"black\"> arms                    </font></mark><mark style=\"background-color: hsl(120, 75%, 100%); opacity:1.0;                     line-height:1.75\"><font color=\"black\"> from                    </font></mark><mark style=\"background-color: hsl(0, 75%, 100%); opacity:1.0;                     line-height:1.75\"><font color=\"black\"> their                    </font></mark><mark style=\"background-color: hsl(120, 75%, 100%); opacity:1.0;                     line-height:1.75\"><font color=\"black\"> fathers                    </font></mark><mark style=\"background-color: hsl(120, 75%, 98%); opacity:1.0;                     line-height:1.75\"><font color=\"black\"> .                    </font></mark><mark style=\"background-color: hsl(120, 75%, 97%); opacity:1.0;                     line-height:1.75\"><font color=\"black\"> also                    </font></mark><mark style=\"background-color: hsl(120, 75%, 100%); opacity:1.0;                     line-height:1.75\"><font color=\"black\"> ,                    </font></mark><mark style=\"background-color: hsl(0, 75%, 100%); opacity:1.0;                     line-height:1.75\"><font color=\"black\"> the                    </font></mark><mark style=\"background-color: hsl(120, 75%, 100%); opacity:1.0;                     line-height:1.75\"><font color=\"black\"> br                    </font></mark><mark style=\"background-color: hsl(0, 75%, 100%); opacity:1.0;                     line-height:1.75\"><font color=\"black\"> ##is                    </font></mark><mark style=\"background-color: hsl(120, 75%, 100%); opacity:1.0;                     line-height:1.75\"><font color=\"black\"> ##ure                    </font></mark><mark style=\"background-color: hsl(120, 75%, 100%); opacity:1.0;                     line-height:1.75\"><font color=\"black\"> was                    </font></mark><mark style=\"background-color: hsl(120, 75%, 99%); opacity:1.0;                     line-height:1.75\"><font color=\"black\"> rarely                    </font></mark><mark style=\"background-color: hsl(120, 75%, 98%); opacity:1.0;                     line-height:1.75\"><font color=\"black\"> used                    </font></mark><mark style=\"background-color: hsl(120, 75%, 99%); opacity:1.0;                     line-height:1.75\"><font color=\"black\"> .                    </font></mark><mark style=\"background-color: hsl(120, 75%, 96%); opacity:1.0;                     line-height:1.75\"><font color=\"black\"> [SEP]                    </font></mark></td><tr></table>"
            ]
          },
          "metadata": {}
        },
        {
          "output_type": "execute_result",
          "data": {
            "text/plain": [
              "<IPython.core.display.HTML object>"
            ],
            "text/html": [
              "<table width: 100%><div style=\"border-top: 1px solid; margin-top: 5px;             padding-top: 5px; display: inline-block\"><b>Legend: </b><span style=\"display: inline-block; width: 10px; height: 10px;                 border: 1px solid; background-color:                 hsl(0, 75%, 60%)\"></span> Negative  <span style=\"display: inline-block; width: 10px; height: 10px;                 border: 1px solid; background-color:                 hsl(0, 75%, 100%)\"></span> Neutral  <span style=\"display: inline-block; width: 10px; height: 10px;                 border: 1px solid; background-color:                 hsl(120, 75%, 50%)\"></span> Positive  </div><tr><th>True Label</th><th>Predicted Label</th><th>Attribution Label</th><th>Attribution Score</th><th>Word Importance</th><tr><td><text style=\"padding-right:2em\"><b>48</b></text></td><td><text style=\"padding-right:2em\"><b>48 (0.99)</b></text></td><td><text style=\"padding-right:2em\"><b></b></text></td><td><text style=\"padding-right:2em\"><b>1.50</b></text></td><td><mark style=\"background-color: hsl(120, 75%, 100%); opacity:1.0;                     line-height:1.75\"><font color=\"black\"> [CLS]                    </font></mark><mark style=\"background-color: hsl(120, 75%, 67%); opacity:1.0;                     line-height:1.75\"><font color=\"black\"> where                    </font></mark><mark style=\"background-color: hsl(120, 75%, 88%); opacity:1.0;                     line-height:1.75\"><font color=\"black\"> did                    </font></mark><mark style=\"background-color: hsl(0, 75%, 100%); opacity:1.0;                     line-height:1.75\"><font color=\"black\"> the                    </font></mark><mark style=\"background-color: hsl(120, 75%, 93%); opacity:1.0;                     line-height:1.75\"><font color=\"black\"> coat                    </font></mark><mark style=\"background-color: hsl(0, 75%, 97%); opacity:1.0;                     line-height:1.75\"><font color=\"black\"> of                    </font></mark><mark style=\"background-color: hsl(0, 75%, 100%); opacity:1.0;                     line-height:1.75\"><font color=\"black\"> arms                    </font></mark><mark style=\"background-color: hsl(120, 75%, 97%); opacity:1.0;                     line-height:1.75\"><font color=\"black\"> proper                    </font></mark><mark style=\"background-color: hsl(120, 75%, 98%); opacity:1.0;                     line-height:1.75\"><font color=\"black\"> and                    </font></mark><mark style=\"background-color: hsl(120, 75%, 92%); opacity:1.0;                     line-height:1.75\"><font color=\"black\"> a                    </font></mark><mark style=\"background-color: hsl(120, 75%, 95%); opacity:1.0;                     line-height:1.75\"><font color=\"black\"> lo                    </font></mark><mark style=\"background-color: hsl(120, 75%, 97%); opacity:1.0;                     line-height:1.75\"><font color=\"black\"> ##zen                    </font></mark><mark style=\"background-color: hsl(120, 75%, 98%); opacity:1.0;                     line-height:1.75\"><font color=\"black\"> ##ge                    </font></mark><mark style=\"background-color: hsl(120, 75%, 97%); opacity:1.0;                     line-height:1.75\"><font color=\"black\"> granted                    </font></mark><mark style=\"background-color: hsl(120, 75%, 100%); opacity:1.0;                     line-height:1.75\"><font color=\"black\"> to                    </font></mark><mark style=\"background-color: hsl(0, 75%, 95%); opacity:1.0;                     line-height:1.75\"><font color=\"black\"> women                    </font></mark><mark style=\"background-color: hsl(120, 75%, 95%); opacity:1.0;                     line-height:1.75\"><font color=\"black\"> not                    </font></mark><mark style=\"background-color: hsl(120, 75%, 97%); opacity:1.0;                     line-height:1.75\"><font color=\"black\"> dev                    </font></mark><mark style=\"background-color: hsl(0, 75%, 100%); opacity:1.0;                     line-height:1.75\"><font color=\"black\"> ##elo                    </font></mark><mark style=\"background-color: hsl(0, 75%, 100%); opacity:1.0;                     line-height:1.75\"><font color=\"black\"> ##up                    </font></mark><mark style=\"background-color: hsl(0, 75%, 100%); opacity:1.0;                     line-height:1.75\"><font color=\"black\"> ##e                    </font></mark><mark style=\"background-color: hsl(120, 75%, 92%); opacity:1.0;                     line-height:1.75\"><font color=\"black\"> ?                    </font></mark><mark style=\"background-color: hsl(0, 75%, 98%); opacity:1.0;                     line-height:1.75\"><font color=\"black\"> [SEP]                    </font></mark><mark style=\"background-color: hsl(120, 75%, 100%); opacity:1.0;                     line-height:1.75\"><font color=\"black\"> also                    </font></mark><mark style=\"background-color: hsl(120, 75%, 100%); opacity:1.0;                     line-height:1.75\"><font color=\"black\"> ,                    </font></mark><mark style=\"background-color: hsl(0, 75%, 99%); opacity:1.0;                     line-height:1.75\"><font color=\"black\"> the                    </font></mark><mark style=\"background-color: hsl(0, 75%, 100%); opacity:1.0;                     line-height:1.75\"><font color=\"black\"> tradition                    </font></mark><mark style=\"background-color: hsl(120, 75%, 98%); opacity:1.0;                     line-height:1.75\"><font color=\"black\"> of                    </font></mark><mark style=\"background-color: hsl(120, 75%, 99%); opacity:1.0;                     line-height:1.75\"><font color=\"black\"> different                    </font></mark><mark style=\"background-color: hsl(0, 75%, 100%); opacity:1.0;                     line-height:1.75\"><font color=\"black\"> ##iating                    </font></mark><mark style=\"background-color: hsl(0, 75%, 99%); opacity:1.0;                     line-height:1.75\"><font color=\"black\"> between                    </font></mark><mark style=\"background-color: hsl(0, 75%, 100%); opacity:1.0;                     line-height:1.75\"><font color=\"black\"> the                    </font></mark><mark style=\"background-color: hsl(120, 75%, 99%); opacity:1.0;                     line-height:1.75\"><font color=\"black\"> coat                    </font></mark><mark style=\"background-color: hsl(120, 75%, 98%); opacity:1.0;                     line-height:1.75\"><font color=\"black\"> of                    </font></mark><mark style=\"background-color: hsl(120, 75%, 99%); opacity:1.0;                     line-height:1.75\"><font color=\"black\"> arms                    </font></mark><mark style=\"background-color: hsl(120, 75%, 100%); opacity:1.0;                     line-height:1.75\"><font color=\"black\"> proper                    </font></mark><mark style=\"background-color: hsl(120, 75%, 99%); opacity:1.0;                     line-height:1.75\"><font color=\"black\"> and                    </font></mark><mark style=\"background-color: hsl(120, 75%, 98%); opacity:1.0;                     line-height:1.75\"><font color=\"black\"> a                    </font></mark><mark style=\"background-color: hsl(0, 75%, 100%); opacity:1.0;                     line-height:1.75\"><font color=\"black\"> lo                    </font></mark><mark style=\"background-color: hsl(120, 75%, 99%); opacity:1.0;                     line-height:1.75\"><font color=\"black\"> ##zen                    </font></mark><mark style=\"background-color: hsl(120, 75%, 98%); opacity:1.0;                     line-height:1.75\"><font color=\"black\"> ##ge                    </font></mark><mark style=\"background-color: hsl(120, 75%, 95%); opacity:1.0;                     line-height:1.75\"><font color=\"black\"> granted                    </font></mark><mark style=\"background-color: hsl(120, 75%, 98%); opacity:1.0;                     line-height:1.75\"><font color=\"black\"> to                    </font></mark><mark style=\"background-color: hsl(0, 75%, 99%); opacity:1.0;                     line-height:1.75\"><font color=\"black\"> women                    </font></mark><mark style=\"background-color: hsl(0, 75%, 94%); opacity:1.0;                     line-height:1.75\"><font color=\"black\"> did                    </font></mark><mark style=\"background-color: hsl(0, 75%, 82%); opacity:1.0;                     line-height:1.75\"><font color=\"black\"> not                    </font></mark><mark style=\"background-color: hsl(0, 75%, 96%); opacity:1.0;                     line-height:1.75\"><font color=\"black\"> develop                    </font></mark><mark style=\"background-color: hsl(0, 75%, 98%); opacity:1.0;                     line-height:1.75\"><font color=\"black\"> in                    </font></mark><mark style=\"background-color: hsl(0, 75%, 95%); opacity:1.0;                     line-height:1.75\"><font color=\"black\"> poland                    </font></mark><mark style=\"background-color: hsl(0, 75%, 100%); opacity:1.0;                     line-height:1.75\"><font color=\"black\"> .                    </font></mark><mark style=\"background-color: hsl(0, 75%, 100%); opacity:1.0;                     line-height:1.75\"><font color=\"black\"> usually                    </font></mark><mark style=\"background-color: hsl(120, 75%, 100%); opacity:1.0;                     line-height:1.75\"><font color=\"black\"> men                    </font></mark><mark style=\"background-color: hsl(0, 75%, 100%); opacity:1.0;                     line-height:1.75\"><font color=\"black\"> inherited                    </font></mark><mark style=\"background-color: hsl(0, 75%, 100%); opacity:1.0;                     line-height:1.75\"><font color=\"black\"> the                    </font></mark><mark style=\"background-color: hsl(0, 75%, 100%); opacity:1.0;                     line-height:1.75\"><font color=\"black\"> coat                    </font></mark><mark style=\"background-color: hsl(120, 75%, 99%); opacity:1.0;                     line-height:1.75\"><font color=\"black\"> of                    </font></mark><mark style=\"background-color: hsl(120, 75%, 100%); opacity:1.0;                     line-height:1.75\"><font color=\"black\"> arms                    </font></mark><mark style=\"background-color: hsl(120, 75%, 100%); opacity:1.0;                     line-height:1.75\"><font color=\"black\"> from                    </font></mark><mark style=\"background-color: hsl(0, 75%, 100%); opacity:1.0;                     line-height:1.75\"><font color=\"black\"> their                    </font></mark><mark style=\"background-color: hsl(120, 75%, 100%); opacity:1.0;                     line-height:1.75\"><font color=\"black\"> fathers                    </font></mark><mark style=\"background-color: hsl(120, 75%, 98%); opacity:1.0;                     line-height:1.75\"><font color=\"black\"> .                    </font></mark><mark style=\"background-color: hsl(120, 75%, 97%); opacity:1.0;                     line-height:1.75\"><font color=\"black\"> also                    </font></mark><mark style=\"background-color: hsl(120, 75%, 100%); opacity:1.0;                     line-height:1.75\"><font color=\"black\"> ,                    </font></mark><mark style=\"background-color: hsl(0, 75%, 100%); opacity:1.0;                     line-height:1.75\"><font color=\"black\"> the                    </font></mark><mark style=\"background-color: hsl(120, 75%, 100%); opacity:1.0;                     line-height:1.75\"><font color=\"black\"> br                    </font></mark><mark style=\"background-color: hsl(0, 75%, 100%); opacity:1.0;                     line-height:1.75\"><font color=\"black\"> ##is                    </font></mark><mark style=\"background-color: hsl(120, 75%, 100%); opacity:1.0;                     line-height:1.75\"><font color=\"black\"> ##ure                    </font></mark><mark style=\"background-color: hsl(120, 75%, 100%); opacity:1.0;                     line-height:1.75\"><font color=\"black\"> was                    </font></mark><mark style=\"background-color: hsl(120, 75%, 99%); opacity:1.0;                     line-height:1.75\"><font color=\"black\"> rarely                    </font></mark><mark style=\"background-color: hsl(120, 75%, 98%); opacity:1.0;                     line-height:1.75\"><font color=\"black\"> used                    </font></mark><mark style=\"background-color: hsl(120, 75%, 99%); opacity:1.0;                     line-height:1.75\"><font color=\"black\"> .                    </font></mark><mark style=\"background-color: hsl(120, 75%, 96%); opacity:1.0;                     line-height:1.75\"><font color=\"black\"> [SEP]                    </font></mark></td><tr></table>"
            ]
          },
          "metadata": {},
          "execution_count": 21
        }
      ],
      "source": [
        "# Visualisation des attributions pour la position de début de la réponse\n",
        "start_position_vis = viz.VisualizationDataRecord(\n",
        "    attributions_start_sum,                                # Attributions résumées pour la position de début\n",
        "    torch.max(torch.softmax(start_scores[0], dim=0)),     # Score de confiance pour la position de début\n",
        "    start_index,                                          # Index de début de la réponse\n",
        "    start_index,                                          # Index réel (identique ici pour la prédiction)\n",
        "    '',                                                   # Pas d'étiquette de classe car QA est une tâche de span\n",
        "    attributions_start_sum.sum(),                         # Somme des attributions pour évaluation globale\n",
        "    all_tokens,                                           # Liste des tokens d'entrée\n",
        "    delta_start                                           # Delta de convergence pour évaluer la stabilité\n",
        ")\n",
        "\n",
        "# Visualisation des attributions pour la position de fin de la réponse\n",
        "end_position_vis = viz.VisualizationDataRecord(\n",
        "    attributions_end_sum,\n",
        "    torch.max(torch.softmax(end_scores[0], dim=0)),\n",
        "    end_index,\n",
        "    end_index,\n",
        "    '',\n",
        "    attributions_end_sum.sum(),\n",
        "    all_tokens,\n",
        "    delta_end\n",
        ")\n",
        "\n",
        "# Affichage des visualisations\n",
        "viz.visualize_text([start_position_vis])\n",
        "viz.visualize_text([end_position_vis])\n"
      ]
    },
    {
      "cell_type": "markdown",
      "source": [
        "## Interprétation des résultats :\n",
        "\n",
        "Dans cette visualisation des attributions, nous pouvons voir comment le modèle BERT a évalué l'importance des différents tokens pour répondre à la question. Les segments de texte sont colorés selon l'importance des mots, avec des nuances de vert pour une attribution positive, des nuances de rouge pour une attribution négative, et des tons neutres pour les mots ayant peu ou pas d'influence sur la prédiction. On observe que les mots \"where\", \"not\" et \"poland\" sont particulièrement mis en avant, ce qui est logique car ils sont directement liés à la formulation de la question et à la réponse correcte. Le modèle a vraiment focalisé son attention sur ces mots pour identifier la réponse, démontrant ainsi sa capacité à extraire des indices contextuels pertinents. Cela témoigne d'une bonne compréhension sémantique de la part du modèle, même si des tokens non essentiels comme les séparateurs [SEP] sont également présents, bien qu'ils n'aient pas un impact significatif sur la décision finale.\n",
        "\n"
      ],
      "metadata": {
        "id": "rk823tSFK1OQ"
      }
    },
    {
      "cell_type": "markdown",
      "source": [
        "## Attribution des Couches avec Optimisation de la Mémoire\n",
        "### Cette section calcule les attributions des différentes couches de BERT\n"
      ],
      "metadata": {
        "id": "ugNL9uKuH50h"
      }
    },
    {
      "cell_type": "code",
      "execution_count": 22,
      "metadata": {
        "id": "fsqsGKMXH9V9"
      },
      "outputs": [],
      "source": [
        "# Nettoyage de la mémoire GPU avant le calcul pour éviter les erreurs OOM\n",
        "import torch\n",
        "torch.cuda.empty_cache()  # Libérer la mémoire GPU inutilisée\n",
        "\n",
        "layer_attrs_start, layer_attrs_end = [], []  # Stockage des attributions\n",
        "\n",
        "# Préparation des embeddings des entrées et des baselines\n",
        "input_embeddings = model.bert.embeddings(input_ids).to(device)               # Embeddings des tokens d'entrée\n",
        "baseline_embeddings = torch.zeros_like(input_embeddings).to(device)         # Baseline neutre (zéros)\n",
        "\n",
        "# Calcul des attributions pour chaque couche du modèle BERT\n",
        "for i in range(model.config.num_hidden_layers):\n",
        "    lc = LayerConductance(\n",
        "        lambda x: model(inputs_embeds=x, attention_mask=attention_mask)[0].max(1).values,\n",
        "        model.bert.encoder.layer[i]  # Cible la couche i du modèle BERT\n",
        "    )\n",
        "\n",
        "    # 🔑 Fractionnement des données pour réduire l'utilisation mémoire\n",
        "    input_chunk = input_embeddings.chunk(2, dim=1)[0]       # Traitement de la moitié des données\n",
        "    baseline_chunk = baseline_embeddings.chunk(2, dim=1)[0] # Baseline correspondante\n",
        "\n",
        "    # Calcul des attributions pour les positions de début et de fin\n",
        "    layer_attr_start = lc.attribute(inputs=input_chunk, baselines=baseline_chunk)\n",
        "    layer_attr_end = lc.attribute(inputs=input_chunk, baselines=baseline_chunk)\n",
        "\n",
        "    # Stockage des résultats (conversion en numpy pour économiser la mémoire GPU)\n",
        "    layer_attrs_start.append(layer_attr_start.sum(dim=-1).squeeze().cpu().detach().numpy())\n",
        "    layer_attrs_end.append(layer_attr_end.sum(dim=-1).squeeze().cpu().detach().numpy())\n"
      ]
    },
    {
      "cell_type": "markdown",
      "source": [
        "## Visualisation des Attributions - Heatmap\n",
        "### Cette section génère une carte thermique (heatmap) pour visualiser l'importance des tokens\n",
        "### à travers les différentes couches du modèle BERT.\n"
      ],
      "metadata": {
        "id": "NIUCD5ttH6kW"
      }
    },
    {
      "cell_type": "code",
      "source": [
        "layer_attrs_start"
      ],
      "metadata": {
        "colab": {
          "base_uri": "https://localhost:8080/"
        },
        "id": "bpsnMD2LLEgz",
        "outputId": "5a7d3ddd-6de4-4b79-e402-32f0975c4c37"
      },
      "execution_count": 26,
      "outputs": [
        {
          "output_type": "execute_result",
          "data": {
            "text/plain": [
              "[array([ 0.13366123,  0.06906703,  0.05830745,  0.06947476,  0.67054737,\n",
              "         0.30927092,  0.86954165,  1.1198692 , -0.46592605,  0.18774368,\n",
              "        -0.50030494, -0.4707633 , -0.19791877, -0.393779  ,  0.07308601,\n",
              "        -1.1523248 , -0.00316857, -0.00210185,  0.14317858,  0.21804863,\n",
              "         0.15036225, -0.24056122,  0.22886674,  1.7249067 , -0.63448143,\n",
              "        -0.03760783, -2.0686612 ,  0.01143155, -1.0811458 , -0.7733824 ,\n",
              "        -0.07207916, -0.22849599, -0.5050725 ,  0.1993899 , -0.50084996,\n",
              "         0.11933985], dtype=float32),\n",
              " array([-4.6960282e-01,  1.2594861e-01, -3.3685997e-02,  2.9965788e-03,\n",
              "         1.1181915e+00,  2.6871884e-01,  9.4443893e-01,  1.2873076e+00,\n",
              "        -3.3736753e-01,  2.4364907e-01, -5.0431812e-01, -2.0849817e-01,\n",
              "        -2.6818627e-01, -1.4318681e-01,  2.3445174e-01, -9.4147074e-01,\n",
              "        -2.6958787e-01, -3.5904878e-01,  3.1853294e-01,  1.3795593e-01,\n",
              "         5.2641428e-01, -4.0875074e-01,  2.3211999e-01,  1.8301487e+00,\n",
              "        -4.8232815e-01,  2.1211270e-02, -2.1282763e+00, -1.6828850e-03,\n",
              "        -1.3135254e+00, -9.9496126e-01,  6.6323325e-02, -2.0419765e-01,\n",
              "        -6.4231062e-01,  1.3115638e-01, -7.3449725e-01,  1.4873707e-01],\n",
              "       dtype=float32),\n",
              " array([ 0.07432663,  0.20817365, -0.2804315 , -0.04537093,  1.0694921 ,\n",
              "         0.25072002,  0.9943015 ,  1.3768258 , -0.1667302 ,  0.40158862,\n",
              "        -0.4352383 ,  0.10050517, -0.0975844 ,  0.04710093,  0.30422503,\n",
              "        -0.7060314 , -0.27604127, -0.3549758 ,  0.04487195, -0.10636972,\n",
              "         0.71140254, -0.30572045,  0.16651636,  2.2245998 , -0.59554726,\n",
              "         0.08333883, -2.2211947 , -0.08002581, -1.6421609 , -1.591115  ,\n",
              "        -0.03577136, -0.23582341, -0.81713825,  0.04575637, -1.2094994 ,\n",
              "        -0.02144162], dtype=float32),\n",
              " array([ 0.0148554 ,  0.5576491 ,  0.10531051,  0.0279086 ,  1.1845193 ,\n",
              "         0.06050263,  0.90396464,  1.2646674 , -0.17364411,  0.20339711,\n",
              "        -0.1687851 ,  0.2130242 ,  0.08845095, -0.19348636,  0.26896882,\n",
              "        -0.7712077 , -0.24115524, -0.5167706 , -0.04140197,  0.00410859,\n",
              "         0.51831865,  0.05837107,  0.23166677,  1.9251558 , -0.61698085,\n",
              "        -0.02614349, -2.592253  , -0.11448832, -1.7897092 , -1.469276  ,\n",
              "        -0.03185484, -0.14468321, -0.7926032 , -0.07789538, -1.3296973 ,\n",
              "        -0.17545006], dtype=float32),\n",
              " array([-0.6524132 ,  0.24303946,  0.13387333,  0.22660981,  1.2395495 ,\n",
              "         0.1347742 ,  0.8203073 ,  1.2409196 , -0.0260659 ,  0.41465098,\n",
              "         0.01945058,  0.35417467,  0.32462683, -0.46006697,  0.10646628,\n",
              "        -0.77052534, -0.07816006, -0.37312618,  0.1829947 , -0.0125335 ,\n",
              "         0.5110015 ,  0.0757008 ,  0.09734075,  1.7510563 , -0.5075588 ,\n",
              "         0.03673099, -2.6228251 , -0.18601197, -1.8508813 , -1.573261  ,\n",
              "         0.19713631, -0.1918    , -0.80588233, -0.08177362, -1.3220416 ,\n",
              "        -0.09977709], dtype=float32),\n",
              " array([-0.27056447,  0.44561884,  0.30177703,  0.25956166,  1.3691941 ,\n",
              "         0.4619709 ,  0.87159157,  0.8728952 ,  0.08125801,  0.290677  ,\n",
              "        -0.11863433,  0.33525497,  0.1531466 , -0.56982803,  0.14085147,\n",
              "        -0.7539669 , -0.43352026, -0.0378693 , -0.02203815, -0.17184368,\n",
              "         0.52028525,  0.3687185 ,  0.0071404 ,  1.5320348 , -0.35943353,\n",
              "         0.07175152, -2.7114954 , -0.17387582, -1.8705463 , -1.6044588 ,\n",
              "         0.47676933, -0.39399943, -0.7801843 , -0.10411592, -1.3412881 ,\n",
              "        -0.17942005], dtype=float32),\n",
              " array([-0.45951328,  0.24865913,  0.52701914,  0.45139885,  1.2862746 ,\n",
              "         0.16656226,  0.6638576 ,  0.7965274 ,  0.02425308,  0.09294116,\n",
              "        -0.04281133,  0.26647264, -0.07047939, -0.64557266, -0.03259086,\n",
              "        -0.73652476, -0.26201114, -0.0137133 , -0.02497676, -0.22104004,\n",
              "         0.47692093,  0.47004184, -0.20332305,  1.5000825 , -0.25459597,\n",
              "         0.12546892, -2.4267244 , -0.5486934 , -1.641581  , -0.9731827 ,\n",
              "         0.37538922, -0.20586711, -0.7236622 , -0.14783865, -1.1446218 ,\n",
              "        -0.25110054], dtype=float32),\n",
              " array([-0.24055359,  0.45653275,  0.7060868 ,  0.40698987,  0.99245805,\n",
              "         0.01727242,  0.51931834,  0.86813825, -0.02672424, -0.09129632,\n",
              "         0.0238107 , -0.14011145, -0.35141993, -0.71979284, -0.06069537,\n",
              "        -0.5985544 ,  0.02148509,  0.1462525 , -0.13923086, -0.27516836,\n",
              "         0.41770834,  0.29851577, -0.23656371,  1.4327412 ,  0.09736035,\n",
              "         0.1643089 , -2.6235828 , -0.5902083 , -1.3068309 , -1.0398767 ,\n",
              "         0.40300065, -0.3621284 , -0.5918361 , -0.34186107, -0.77458894,\n",
              "        -0.22596613], dtype=float32),\n",
              " array([-1.68324068e-01,  1.08545339e+00,  9.41590548e-01,  4.94602382e-01,\n",
              "         1.05044746e+00, -6.43755570e-02,  2.14122325e-01,  9.25855458e-01,\n",
              "        -8.08189735e-02, -5.86983711e-02,  1.51650757e-02, -2.04991043e-01,\n",
              "        -2.70082563e-01, -4.89241838e-01, -1.08866021e-04, -7.21977234e-01,\n",
              "         2.03680664e-01,  1.92143232e-01, -1.83793843e-01, -2.30587080e-01,\n",
              "         1.49419338e-01,  2.66089976e-01, -3.81383419e-01,  1.15332675e+00,\n",
              "         7.44929463e-02,  1.21084675e-01, -2.34149790e+00, -4.96406406e-01,\n",
              "        -7.40215659e-01, -7.84546673e-01, -2.34230369e-01, -1.55112654e-01,\n",
              "        -2.43085101e-02, -2.06349745e-01, -4.76306945e-01, -2.98143566e-01],\n",
              "       dtype=float32),\n",
              " array([ 0.27707455,  1.492439  ,  1.0869188 ,  0.33072916,  0.3337177 ,\n",
              "        -0.15005738, -0.0093313 ,  0.6984378 , -0.04927771, -0.10373016,\n",
              "         0.007495  , -0.06089836, -0.03734533, -0.13041931,  0.12785673,\n",
              "        -0.79608256,  0.27971876,  0.16640931, -0.14129919, -0.2797678 ,\n",
              "         0.09730494,  0.34597224, -0.30076596,  0.95972264,  0.09458631,\n",
              "        -0.1081952 , -1.93402   , -0.43129832, -1.0143025 , -1.0452528 ,\n",
              "        -0.05968098,  0.12205565,  0.52125347,  0.1285565 ,  0.05073188,\n",
              "        -0.06549928], dtype=float32),\n",
              " array([ 0.27965793,  1.3954985 ,  0.9838962 ,  0.31159276,  0.03949256,\n",
              "        -0.17131062, -0.3140217 ,  0.52738726,  0.13109413, -0.14527863,\n",
              "         0.09023098, -0.06649075, -0.26185617, -0.22336346, -0.00205323,\n",
              "        -0.5776093 ,  0.32588792,  0.13864797, -0.07916333, -0.20433038,\n",
              "         0.06570938,  0.5493741 , -0.10253991,  0.96840316, -0.10614858,\n",
              "        -0.11941341, -0.8816839 , -0.43539637, -1.6604886 , -1.2923203 ,\n",
              "        -0.71344256,  0.02396209,  0.45681363,  0.04557303,  0.5322154 ,\n",
              "        -0.23806125], dtype=float32),\n",
              " array([-0.052407  ,  1.6117277 ,  0.4356044 ,  0.3133685 , -0.23350431,\n",
              "        -0.04385388, -0.2558459 ,  0.05293965,  0.41150433, -0.06872436,\n",
              "         0.05267132,  0.10505841, -0.1772198 , -0.20474558,  0.08857619,\n",
              "        -0.59926516,  0.19306469,  0.00432115, -0.22004426, -0.17623085,\n",
              "         0.05941251,  0.60700667,  0.10243186,  0.46054193, -0.10146727,\n",
              "        -0.15311553, -1.5641658 , -0.29994008, -1.8461218 , -0.6803544 ,\n",
              "        -1.2902942 ,  0.01307474,  0.85126173,  0.05442381,  0.2921037 ,\n",
              "         0.04560989], dtype=float32),\n",
              " array([ 0.11651424,  1.0973238 ,  0.7022811 ,  0.3214974 , -0.0505878 ,\n",
              "         0.05541705, -0.4801561 ,  0.06010643,  0.25377473,  0.18558496,\n",
              "         0.03297397,  0.15066661, -0.36325866, -0.1723803 ,  0.29629272,\n",
              "        -0.7559312 ,  0.3111142 ,  0.02422687, -0.21391837, -0.23260927,\n",
              "        -0.04273062,  0.46355096, -0.02804621,  0.32531402, -0.0326061 ,\n",
              "        -0.07391976, -1.6835549 , -0.2017976 , -1.365916  , -0.8516599 ,\n",
              "        -1.4627345 ,  0.24304332,  0.5292685 ,  0.30256024,  0.35040945,\n",
              "         0.0345652 ], dtype=float32),\n",
              " array([ 0.03982623,  1.5480472 ,  0.5202826 ,  0.15483874,  0.10062923,\n",
              "        -0.1630899 , -0.01135506, -0.52717763,  0.17985056,  0.14728528,\n",
              "        -0.2173515 ,  0.09008799, -0.24600802, -0.04521716, -0.04027532,\n",
              "        -0.5239898 ,  0.12458374,  0.1255542 , -0.03865057, -0.21705091,\n",
              "        -0.13470094,  0.32670155, -0.26088056, -0.13010299, -0.07576558,\n",
              "        -0.26623338, -1.843121  , -0.21264061, -1.001942  , -0.81184125,\n",
              "        -0.6208012 ,  0.41235518,  0.47094238,  0.04086996, -0.16231203,\n",
              "         0.68270195], dtype=float32),\n",
              " array([-0.06816366,  1.0614733 ,  0.5213001 ,  0.28729144,  0.14447317,\n",
              "        -0.22809944, -0.28590465, -0.6016712 , -0.09271676,  0.04805401,\n",
              "        -0.02440733,  0.0497395 , -0.40478384, -0.39603338,  0.22913839,\n",
              "        -0.44997936,  0.5334885 ,  0.2824359 ,  0.01504617, -0.19465175,\n",
              "        -0.05476752,  0.2987895 ,  0.13963637, -0.23467143, -0.17210543,\n",
              "        -0.36640173, -1.4899925 , -0.26583523, -0.6472539 , -0.5599272 ,\n",
              "        -0.72621846,  0.50260776,  0.5132024 , -0.21558501, -0.54530776,\n",
              "         0.9153254 ], dtype=float32),\n",
              " array([ 0.13737024,  1.5841888 ,  0.58691174,  0.34399334,  0.07048036,\n",
              "         0.01473044, -0.35602733, -0.48677555, -0.08519578,  0.15867017,\n",
              "         0.03380808,  0.01016582, -0.19223261, -0.12945366,  0.06134295,\n",
              "        -0.39303723,  0.13967815,  0.0461909 , -0.0634192 , -0.17944568,\n",
              "        -0.05582068,  0.36989102,  0.10450111, -1.3040094 , -0.28762928,\n",
              "        -0.31506526, -1.382369  , -0.5027652 , -0.6840402 , -0.47112697,\n",
              "        -0.6725411 ,  0.5795895 ,  0.17743129, -0.13856365, -0.3763374 ,\n",
              "         0.32861078], dtype=float32),\n",
              " array([ 0.01250517,  1.369526  ,  0.7136809 ,  0.26858002,  0.02053522,\n",
              "        -0.12868142, -0.36508524, -0.3755513 , -0.0591008 ,  0.09936683,\n",
              "         0.03572399, -0.00749791, -0.11693542, -0.460858  ,  0.1035036 ,\n",
              "        -0.61950314, -0.10904422,  0.19771421, -0.03180503, -0.12980014,\n",
              "        -0.01939469,  0.29936206,  0.08438335, -0.7900008 , -0.5355331 ,\n",
              "        -0.5712652 , -1.0205619 , -0.4742479 , -0.73114645, -0.47103798,\n",
              "        -0.37681574,  1.4378711 ,  0.38884184, -0.24596614, -0.2453072 ,\n",
              "         0.36254308], dtype=float32),\n",
              " array([ 0.11543378,  1.3794494 ,  0.5489211 ,  0.14881489, -0.04830718,\n",
              "        -0.25667655, -0.40871447, -0.25193477, -0.08619387,  0.07781849,\n",
              "        -0.01024039, -0.04647912, -0.02957744, -0.28740835,  0.32774067,\n",
              "        -0.81399685, -0.36477807,  0.13677542, -0.0453063 , -0.13360584,\n",
              "        -0.04845082,  0.16905835,  0.06920432, -0.21822155, -0.21053968,\n",
              "        -1.2283089 , -0.6647911 , -0.39179134, -0.44967884, -0.42885312,\n",
              "        -1.0773597 ,  0.8735273 ,  0.06773767, -0.36729366, -0.34068835,\n",
              "         0.1487522 ], dtype=float32),\n",
              " array([ 0.33057958,  1.1334445 ,  0.46543223,  0.02489918, -0.19956522,\n",
              "        -0.40385902, -0.5649451 , -0.3012653 ,  0.05743236, -0.04079913,\n",
              "        -0.00808956, -0.07476637, -0.11124594,  0.20414655, -0.38242465,\n",
              "        -0.98598564, -0.2228047 , -0.08054657, -0.02886552, -0.11179845,\n",
              "         0.04589189,  0.23863882, -0.08899619,  0.2225231 , -0.3414182 ,\n",
              "        -1.778432  , -0.17211795, -0.34728754, -0.51394224, -0.23629943,\n",
              "        -1.0804541 ,  0.28044397,  0.1586302 , -0.2109828 , -0.10455377,\n",
              "        -0.02091956], dtype=float32),\n",
              " array([ 0.14482023,  0.7974176 ,  0.20892727, -0.04459994, -0.11766307,\n",
              "        -0.19076398, -0.31564426, -0.23140499, -0.06071467, -0.06571396,\n",
              "         0.04054679, -0.06237384, -0.12038263, -0.19215788, -0.43112466,\n",
              "        -1.8462522 ,  0.03721327,  0.04711662, -0.04051807, -0.11000696,\n",
              "        -0.02235408,  0.16450708, -0.14619929,  0.16347417, -0.19809386,\n",
              "        -2.0646718 , -0.1171841 , -0.2467146 , -0.57020855, -0.2930873 ,\n",
              "         0.16853547, -0.11954516, -0.04142161, -0.23570472, -0.14164636,\n",
              "        -0.10122696], dtype=float32),\n",
              " array([ 0.08089288,  0.41911855,  0.13177603,  0.01740211, -0.06685398,\n",
              "        -0.12321411, -0.08948027, -0.12051224, -0.06470865, -0.03294157,\n",
              "         0.07678401, -0.04529545, -0.04875911, -0.06823482, -0.13624677,\n",
              "        -1.8018534 , -0.06550406,  0.03498742, -0.05363473, -0.13356532,\n",
              "        -0.0145232 ,  0.0501557 , -0.31677085,  0.09417524, -0.21226853,\n",
              "        -2.4635954 , -0.26449093, -0.0599705 , -0.2625592 , -0.10301009,\n",
              "        -0.02691552, -0.52756584, -0.06557257, -0.18335122, -0.10341662,\n",
              "        -0.15118363], dtype=float32),\n",
              " array([ 7.44193122e-02,  1.00584745e+00,  7.60176331e-02, -4.56229858e-02,\n",
              "        -4.17451598e-02, -1.30495429e-01, -1.11035109e-01, -1.18928000e-01,\n",
              "        -1.16737887e-01, -2.64884159e-02,  4.19946536e-02, -7.78155774e-02,\n",
              "        -8.96005332e-02, -9.89398956e-02, -2.05078840e-01, -1.87920809e+00,\n",
              "        -1.52314827e-01, -3.30944508e-02, -9.41559076e-02, -1.12664714e-01,\n",
              "        -6.11822903e-02, -1.38951093e-03, -1.06575072e-01, -5.86486682e-02,\n",
              "        -2.56489992e-01, -3.04727721e+00, -1.83162153e-01, -1.89731002e-01,\n",
              "        -4.33544397e-01, -1.84967905e-01, -1.50255233e-01, -1.59765959e+00,\n",
              "        -1.14684321e-01, -3.52939039e-01, -9.45493579e-02, -5.52651957e-02],\n",
              "       dtype=float32),\n",
              " array([ 1.25742517e-03,  1.14510357e+00,  1.22293741e-01,  3.65019031e-03,\n",
              "        -2.20078193e-02,  2.37108506e-02, -1.91599969e-02, -5.55933677e-02,\n",
              "        -2.34618075e-02, -6.21470902e-03,  2.66890600e-02, -2.69397274e-02,\n",
              "        -4.19604331e-02, -3.02189626e-02, -4.65447307e-02, -2.26486444e+00,\n",
              "        -7.01283962e-02, -4.05176654e-02, -4.35323119e-02, -6.41325712e-02,\n",
              "        -5.17696217e-02,  1.24852685e-02,  1.77686773e-02,  2.33018771e-02,\n",
              "        -7.83122182e-02, -3.76573062e+00, -1.23443857e-01, -2.29224190e-02,\n",
              "        -1.08210772e-01, -1.24077775e-01, -1.16360858e-02, -2.37431073e+00,\n",
              "        -5.08998670e-02,  2.31470913e-04,  2.26847976e-02,  2.07256675e-02],\n",
              "       dtype=float32),\n",
              " array([-0.8396942 ,  1.0441909 ,  0.        ,  0.        ,  0.        ,\n",
              "         0.        ,  0.        ,  0.        ,  0.        ,  0.        ,\n",
              "         0.        ,  0.        ,  0.        ,  0.        ,  0.        ,\n",
              "        -2.3794467 ,  0.        ,  0.        ,  0.        ,  0.        ,\n",
              "         0.        ,  0.        ,  0.        ,  0.        ,  0.        ,\n",
              "        -4.4135327 ,  0.        ,  0.        , -0.09025487,  0.        ,\n",
              "         0.        , -2.2231202 ,  0.        ,  0.        ,  0.        ,\n",
              "         0.        ], dtype=float32)]"
            ]
          },
          "metadata": {},
          "execution_count": 26
        }
      ]
    },
    {
      "cell_type": "code",
      "execution_count": 23,
      "metadata": {
        "colab": {
          "base_uri": "https://localhost:8080/",
          "height": 510
        },
        "id": "xfofFEIkH-Jh",
        "outputId": "401d33ed-2ffd-4c52-8531-3551bba6a793"
      },
      "outputs": [
        {
          "output_type": "display_data",
          "data": {
            "text/plain": [
              "<Figure size 1500x500 with 2 Axes>"
            ],
            "image/png": "[encoded data removed]"
          },
          "metadata": {}
        }
      ],
      "source": [
        "plt.figure(figsize=(15, 5))  # Définir la taille de la figure\n",
        "\n",
        "# Génération de la heatmap avec seaborn\n",
        "sns.heatmap(\n",
        "    np.array(layer_attrs_start),               # Données des attributions par couche\n",
        "    xticklabels=all_tokens,                    # Étiquettes des tokens en abscisse\n",
        "    yticklabels=list(range(1, 13)),            # Numérotation des couches en ordonnée (de 1 à 12)\n",
        "    linewidth=0.2                              # Épaisseur des lignes de séparation\n",
        ")\n",
        "\n",
        "# Ajout des étiquettes des axes\n",
        "plt.xlabel('Tokens')                           # Étiquette de l'axe des X\n",
        "plt.ylabel('Layers')                           # Étiquette de l'axe des Y\n",
        "\n",
        "# Affichage de la heatmap\n",
        "plt.show()"
      ]
    },
    {
      "cell_type": "markdown",
      "source": [
        "## Interprétation des résultats :\n",
        "\n",
        "L'analyse de la heatmap des attributions par couche met en lumière des schémas intéressants concernant l'importance des tokens à travers les différentes couches du modèle BERT. On remarque que certaines couches, en particulier les couches intermédiaires, affichent des activations plus marquées pour des tokens clés tels que \"Pologne\", \"tradition\" et \"manteau\", soulignant leur rôle essentiel dans la compréhension du contexte de la question. Les valeurs d'attribution négatives indiquent une influence inhibitrice sur la décision finale, tandis que les valeurs positives renforcent la prédiction. Les premières couches semblent se concentrer sur des informations syntaxiques de base, tandis que les couches plus profondes saisissent des relations sémantiques complexes. L'intensité des attributions diminue légèrement dans les dernières couches, ce qui est en accord avec le comportement attendu de BERT, où les ajustements fins se font après l'extraction des caractéristiques principales.\n",
        "\n"
      ],
      "metadata": {
        "id": "A6reK_6mL1jM"
      }
    },
    {
      "cell_type": "markdown",
      "source": [
        "## Visualisation des Attributions - Heatmap (Position de Fin)\n",
        "### Cette section génère une carte thermique (heatmap) pour visualiser l'importance des tokens\n",
        "### à travers les différentes couches du modèle BERT pour la position de fin de la réponse.\n"
      ],
      "metadata": {
        "id": "vS1qof2RH7Vw"
      }
    },
    {
      "cell_type": "code",
      "source": [
        "layer_attrs_end"
      ],
      "metadata": {
        "colab": {
          "base_uri": "https://localhost:8080/"
        },
        "collapsed": true,
        "id": "bK6aEP4KLKgC",
        "outputId": "acf6437b-be81-4844-f594-05fed59edea2"
      },
      "execution_count": 27,
      "outputs": [
        {
          "output_type": "execute_result",
          "data": {
            "text/plain": [
              "[array([ 0.13366123,  0.06906703,  0.05830745,  0.06947476,  0.67054737,\n",
              "         0.30927092,  0.86954165,  1.1198692 , -0.46592605,  0.18774368,\n",
              "        -0.50030494, -0.4707633 , -0.19791877, -0.393779  ,  0.07308601,\n",
              "        -1.1523248 , -0.00316857, -0.00210185,  0.14317858,  0.21804863,\n",
              "         0.15036225, -0.24056122,  0.22886674,  1.7249067 , -0.63448143,\n",
              "        -0.03760783, -2.0686612 ,  0.01143155, -1.0811458 , -0.7733824 ,\n",
              "        -0.07207916, -0.22849599, -0.5050725 ,  0.1993899 , -0.50084996,\n",
              "         0.11933985], dtype=float32),\n",
              " array([-4.6960282e-01,  1.2594861e-01, -3.3685997e-02,  2.9965788e-03,\n",
              "         1.1181915e+00,  2.6871884e-01,  9.4443893e-01,  1.2873076e+00,\n",
              "        -3.3736753e-01,  2.4364907e-01, -5.0431812e-01, -2.0849817e-01,\n",
              "        -2.6818627e-01, -1.4318681e-01,  2.3445174e-01, -9.4147074e-01,\n",
              "        -2.6958787e-01, -3.5904878e-01,  3.1853294e-01,  1.3795593e-01,\n",
              "         5.2641428e-01, -4.0875074e-01,  2.3211999e-01,  1.8301487e+00,\n",
              "        -4.8232815e-01,  2.1211270e-02, -2.1282763e+00, -1.6828850e-03,\n",
              "        -1.3135254e+00, -9.9496126e-01,  6.6323325e-02, -2.0419765e-01,\n",
              "        -6.4231062e-01,  1.3115638e-01, -7.3449725e-01,  1.4873707e-01],\n",
              "       dtype=float32),\n",
              " array([ 0.07432663,  0.20817365, -0.2804315 , -0.04537093,  1.0694921 ,\n",
              "         0.25072002,  0.9943015 ,  1.3768258 , -0.1667302 ,  0.40158862,\n",
              "        -0.4352383 ,  0.10050517, -0.0975844 ,  0.04710093,  0.30422503,\n",
              "        -0.7060314 , -0.27604127, -0.3549758 ,  0.04487195, -0.10636972,\n",
              "         0.71140254, -0.30572045,  0.16651636,  2.2245998 , -0.59554726,\n",
              "         0.08333883, -2.2211947 , -0.08002581, -1.6421609 , -1.591115  ,\n",
              "        -0.03577136, -0.23582341, -0.81713825,  0.04575637, -1.2094994 ,\n",
              "        -0.02144162], dtype=float32),\n",
              " array([ 0.0148554 ,  0.5576491 ,  0.10531051,  0.0279086 ,  1.1845193 ,\n",
              "         0.06050263,  0.90396464,  1.2646674 , -0.17364411,  0.20339711,\n",
              "        -0.1687851 ,  0.2130242 ,  0.08845095, -0.19348636,  0.26896882,\n",
              "        -0.7712077 , -0.24115524, -0.5167706 , -0.04140197,  0.00410859,\n",
              "         0.51831865,  0.05837107,  0.23166677,  1.9251558 , -0.61698085,\n",
              "        -0.02614349, -2.592253  , -0.11448832, -1.7897092 , -1.469276  ,\n",
              "        -0.03185484, -0.14468321, -0.7926032 , -0.07789538, -1.3296973 ,\n",
              "        -0.17545006], dtype=float32),\n",
              " array([-0.6524132 ,  0.24303946,  0.13387333,  0.22660981,  1.2395495 ,\n",
              "         0.1347742 ,  0.8203073 ,  1.2409196 , -0.0260659 ,  0.41465098,\n",
              "         0.01945058,  0.35417467,  0.32462683, -0.46006697,  0.10646628,\n",
              "        -0.77052534, -0.07816006, -0.37312618,  0.1829947 , -0.0125335 ,\n",
              "         0.5110015 ,  0.0757008 ,  0.09734075,  1.7510563 , -0.5075588 ,\n",
              "         0.03673099, -2.6228251 , -0.18601197, -1.8508813 , -1.573261  ,\n",
              "         0.19713631, -0.1918    , -0.80588233, -0.08177362, -1.3220416 ,\n",
              "        -0.09977709], dtype=float32),\n",
              " array([-0.27056447,  0.44561884,  0.30177703,  0.25956166,  1.3691941 ,\n",
              "         0.4619709 ,  0.87159157,  0.8728952 ,  0.08125801,  0.290677  ,\n",
              "        -0.11863433,  0.33525497,  0.1531466 , -0.56982803,  0.14085147,\n",
              "        -0.7539669 , -0.43352026, -0.0378693 , -0.02203815, -0.17184368,\n",
              "         0.52028525,  0.3687185 ,  0.0071404 ,  1.5320348 , -0.35943353,\n",
              "         0.07175152, -2.7114954 , -0.17387582, -1.8705463 , -1.6044588 ,\n",
              "         0.47676933, -0.39399943, -0.7801843 , -0.10411592, -1.3412881 ,\n",
              "        -0.17942005], dtype=float32),\n",
              " array([-0.45951328,  0.24865913,  0.52701914,  0.45139885,  1.2862746 ,\n",
              "         0.16656226,  0.6638576 ,  0.7965274 ,  0.02425308,  0.09294116,\n",
              "        -0.04281133,  0.26647264, -0.07047939, -0.64557266, -0.03259086,\n",
              "        -0.73652476, -0.26201114, -0.0137133 , -0.02497676, -0.22104004,\n",
              "         0.47692093,  0.47004184, -0.20332305,  1.5000825 , -0.25459597,\n",
              "         0.12546892, -2.4267244 , -0.5486934 , -1.641581  , -0.9731827 ,\n",
              "         0.37538922, -0.20586711, -0.7236622 , -0.14783865, -1.1446218 ,\n",
              "        -0.25110054], dtype=float32),\n",
              " array([-0.24055359,  0.45653275,  0.7060868 ,  0.40698987,  0.99245805,\n",
              "         0.01727242,  0.51931834,  0.86813825, -0.02672424, -0.09129632,\n",
              "         0.0238107 , -0.14011145, -0.35141993, -0.71979284, -0.06069537,\n",
              "        -0.5985544 ,  0.02148509,  0.1462525 , -0.13923086, -0.27516836,\n",
              "         0.41770834,  0.29851577, -0.23656371,  1.4327412 ,  0.09736035,\n",
              "         0.1643089 , -2.6235828 , -0.5902083 , -1.3068309 , -1.0398767 ,\n",
              "         0.40300065, -0.3621284 , -0.5918361 , -0.34186107, -0.77458894,\n",
              "        -0.22596613], dtype=float32),\n",
              " array([-1.68324068e-01,  1.08545339e+00,  9.41590548e-01,  4.94602382e-01,\n",
              "         1.05044746e+00, -6.43755570e-02,  2.14122325e-01,  9.25855458e-01,\n",
              "        -8.08189735e-02, -5.86983711e-02,  1.51650757e-02, -2.04991043e-01,\n",
              "        -2.70082563e-01, -4.89241838e-01, -1.08866021e-04, -7.21977234e-01,\n",
              "         2.03680664e-01,  1.92143232e-01, -1.83793843e-01, -2.30587080e-01,\n",
              "         1.49419338e-01,  2.66089976e-01, -3.81383419e-01,  1.15332675e+00,\n",
              "         7.44929463e-02,  1.21084675e-01, -2.34149790e+00, -4.96406406e-01,\n",
              "        -7.40215659e-01, -7.84546673e-01, -2.34230369e-01, -1.55112654e-01,\n",
              "        -2.43085101e-02, -2.06349745e-01, -4.76306945e-01, -2.98143566e-01],\n",
              "       dtype=float32),\n",
              " array([ 0.27707455,  1.492439  ,  1.0869188 ,  0.33072916,  0.3337177 ,\n",
              "        -0.15005738, -0.0093313 ,  0.6984378 , -0.04927771, -0.10373016,\n",
              "         0.007495  , -0.06089836, -0.03734533, -0.13041931,  0.12785673,\n",
              "        -0.79608256,  0.27971876,  0.16640931, -0.14129919, -0.2797678 ,\n",
              "         0.09730494,  0.34597224, -0.30076596,  0.95972264,  0.09458631,\n",
              "        -0.1081952 , -1.93402   , -0.43129832, -1.0143025 , -1.0452528 ,\n",
              "        -0.05968098,  0.12205565,  0.52125347,  0.1285565 ,  0.05073188,\n",
              "        -0.06549928], dtype=float32),\n",
              " array([ 0.27965793,  1.3954985 ,  0.9838962 ,  0.31159276,  0.03949256,\n",
              "        -0.17131062, -0.3140217 ,  0.52738726,  0.13109413, -0.14527863,\n",
              "         0.09023098, -0.06649075, -0.26185617, -0.22336346, -0.00205323,\n",
              "        -0.5776093 ,  0.32588792,  0.13864797, -0.07916333, -0.20433038,\n",
              "         0.06570938,  0.5493741 , -0.10253991,  0.96840316, -0.10614858,\n",
              "        -0.11941341, -0.8816839 , -0.43539637, -1.6604886 , -1.2923203 ,\n",
              "        -0.71344256,  0.02396209,  0.45681363,  0.04557303,  0.5322154 ,\n",
              "        -0.23806125], dtype=float32),\n",
              " array([-0.052407  ,  1.6117277 ,  0.4356044 ,  0.3133685 , -0.23350431,\n",
              "        -0.04385388, -0.2558459 ,  0.05293965,  0.41150433, -0.06872436,\n",
              "         0.05267132,  0.10505841, -0.1772198 , -0.20474558,  0.08857619,\n",
              "        -0.59926516,  0.19306469,  0.00432115, -0.22004426, -0.17623085,\n",
              "         0.05941251,  0.60700667,  0.10243186,  0.46054193, -0.10146727,\n",
              "        -0.15311553, -1.5641658 , -0.29994008, -1.8461218 , -0.6803544 ,\n",
              "        -1.2902942 ,  0.01307474,  0.85126173,  0.05442381,  0.2921037 ,\n",
              "         0.04560989], dtype=float32),\n",
              " array([ 0.11651424,  1.0973238 ,  0.7022811 ,  0.3214974 , -0.0505878 ,\n",
              "         0.05541705, -0.4801561 ,  0.06010643,  0.25377473,  0.18558496,\n",
              "         0.03297397,  0.15066661, -0.36325866, -0.1723803 ,  0.29629272,\n",
              "        -0.7559312 ,  0.3111142 ,  0.02422687, -0.21391837, -0.23260927,\n",
              "        -0.04273062,  0.46355096, -0.02804621,  0.32531402, -0.0326061 ,\n",
              "        -0.07391976, -1.6835549 , -0.2017976 , -1.365916  , -0.8516599 ,\n",
              "        -1.4627345 ,  0.24304332,  0.5292685 ,  0.30256024,  0.35040945,\n",
              "         0.0345652 ], dtype=float32),\n",
              " array([ 0.03982623,  1.5480472 ,  0.5202826 ,  0.15483874,  0.10062923,\n",
              "        -0.1630899 , -0.01135506, -0.52717763,  0.17985056,  0.14728528,\n",
              "        -0.2173515 ,  0.09008799, -0.24600802, -0.04521716, -0.04027532,\n",
              "        -0.5239898 ,  0.12458374,  0.1255542 , -0.03865057, -0.21705091,\n",
              "        -0.13470094,  0.32670155, -0.26088056, -0.13010299, -0.07576558,\n",
              "        -0.26623338, -1.843121  , -0.21264061, -1.001942  , -0.81184125,\n",
              "        -0.6208012 ,  0.41235518,  0.47094238,  0.04086996, -0.16231203,\n",
              "         0.68270195], dtype=float32),\n",
              " array([-0.06816366,  1.0614733 ,  0.5213001 ,  0.28729144,  0.14447317,\n",
              "        -0.22809944, -0.28590465, -0.6016712 , -0.09271676,  0.04805401,\n",
              "        -0.02440733,  0.0497395 , -0.40478384, -0.39603338,  0.22913839,\n",
              "        -0.44997936,  0.5334885 ,  0.2824359 ,  0.01504617, -0.19465175,\n",
              "        -0.05476752,  0.2987895 ,  0.13963637, -0.23467143, -0.17210543,\n",
              "        -0.36640173, -1.4899925 , -0.26583523, -0.6472539 , -0.5599272 ,\n",
              "        -0.72621846,  0.50260776,  0.5132024 , -0.21558501, -0.54530776,\n",
              "         0.9153254 ], dtype=float32),\n",
              " array([ 0.13737024,  1.5841888 ,  0.58691174,  0.34399334,  0.07048036,\n",
              "         0.01473044, -0.35602733, -0.48677555, -0.08519578,  0.15867017,\n",
              "         0.03380808,  0.01016582, -0.19223261, -0.12945366,  0.06134295,\n",
              "        -0.39303723,  0.13967815,  0.0461909 , -0.0634192 , -0.17944568,\n",
              "        -0.05582068,  0.36989102,  0.10450111, -1.3040094 , -0.28762928,\n",
              "        -0.31506526, -1.382369  , -0.5027652 , -0.6840402 , -0.47112697,\n",
              "        -0.6725411 ,  0.5795895 ,  0.17743129, -0.13856365, -0.3763374 ,\n",
              "         0.32861078], dtype=float32),\n",
              " array([ 0.01250517,  1.369526  ,  0.7136809 ,  0.26858002,  0.02053522,\n",
              "        -0.12868142, -0.36508524, -0.3755513 , -0.0591008 ,  0.09936683,\n",
              "         0.03572399, -0.00749791, -0.11693542, -0.460858  ,  0.1035036 ,\n",
              "        -0.61950314, -0.10904422,  0.19771421, -0.03180503, -0.12980014,\n",
              "        -0.01939469,  0.29936206,  0.08438335, -0.7900008 , -0.5355331 ,\n",
              "        -0.5712652 , -1.0205619 , -0.4742479 , -0.73114645, -0.47103798,\n",
              "        -0.37681574,  1.4378711 ,  0.38884184, -0.24596614, -0.2453072 ,\n",
              "         0.36254308], dtype=float32),\n",
              " array([ 0.11543378,  1.3794494 ,  0.5489211 ,  0.14881489, -0.04830718,\n",
              "        -0.25667655, -0.40871447, -0.25193477, -0.08619387,  0.07781849,\n",
              "        -0.01024039, -0.04647912, -0.02957744, -0.28740835,  0.32774067,\n",
              "        -0.81399685, -0.36477807,  0.13677542, -0.0453063 , -0.13360584,\n",
              "        -0.04845082,  0.16905835,  0.06920432, -0.21822155, -0.21053968,\n",
              "        -1.2283089 , -0.6647911 , -0.39179134, -0.44967884, -0.42885312,\n",
              "        -1.0773597 ,  0.8735273 ,  0.06773767, -0.36729366, -0.34068835,\n",
              "         0.1487522 ], dtype=float32),\n",
              " array([ 0.33057958,  1.1334445 ,  0.46543223,  0.02489918, -0.19956522,\n",
              "        -0.40385902, -0.5649451 , -0.3012653 ,  0.05743236, -0.04079913,\n",
              "        -0.00808956, -0.07476637, -0.11124594,  0.20414655, -0.38242465,\n",
              "        -0.98598564, -0.2228047 , -0.08054657, -0.02886552, -0.11179845,\n",
              "         0.04589189,  0.23863882, -0.08899619,  0.2225231 , -0.3414182 ,\n",
              "        -1.778432  , -0.17211795, -0.34728754, -0.51394224, -0.23629943,\n",
              "        -1.0804541 ,  0.28044397,  0.1586302 , -0.2109828 , -0.10455377,\n",
              "        -0.02091956], dtype=float32),\n",
              " array([ 0.14482023,  0.7974176 ,  0.20892727, -0.04459994, -0.11766307,\n",
              "        -0.19076398, -0.31564426, -0.23140499, -0.06071467, -0.06571396,\n",
              "         0.04054679, -0.06237384, -0.12038263, -0.19215788, -0.43112466,\n",
              "        -1.8462522 ,  0.03721327,  0.04711662, -0.04051807, -0.11000696,\n",
              "        -0.02235408,  0.16450708, -0.14619929,  0.16347417, -0.19809386,\n",
              "        -2.0646718 , -0.1171841 , -0.2467146 , -0.57020855, -0.2930873 ,\n",
              "         0.16853547, -0.11954516, -0.04142161, -0.23570472, -0.14164636,\n",
              "        -0.10122696], dtype=float32),\n",
              " array([ 0.08089288,  0.41911855,  0.13177603,  0.01740211, -0.06685398,\n",
              "        -0.12321411, -0.08948027, -0.12051224, -0.06470865, -0.03294157,\n",
              "         0.07678401, -0.04529545, -0.04875911, -0.06823482, -0.13624677,\n",
              "        -1.8018534 , -0.06550406,  0.03498742, -0.05363473, -0.13356532,\n",
              "        -0.0145232 ,  0.0501557 , -0.31677085,  0.09417524, -0.21226853,\n",
              "        -2.4635954 , -0.26449093, -0.0599705 , -0.2625592 , -0.10301009,\n",
              "        -0.02691552, -0.52756584, -0.06557257, -0.18335122, -0.10341662,\n",
              "        -0.15118363], dtype=float32),\n",
              " array([ 7.44193122e-02,  1.00584745e+00,  7.60176331e-02, -4.56229858e-02,\n",
              "        -4.17451598e-02, -1.30495429e-01, -1.11035109e-01, -1.18928000e-01,\n",
              "        -1.16737887e-01, -2.64884159e-02,  4.19946536e-02, -7.78155774e-02,\n",
              "        -8.96005332e-02, -9.89398956e-02, -2.05078840e-01, -1.87920809e+00,\n",
              "        -1.52314827e-01, -3.30944508e-02, -9.41559076e-02, -1.12664714e-01,\n",
              "        -6.11822903e-02, -1.38951093e-03, -1.06575072e-01, -5.86486682e-02,\n",
              "        -2.56489992e-01, -3.04727721e+00, -1.83162153e-01, -1.89731002e-01,\n",
              "        -4.33544397e-01, -1.84967905e-01, -1.50255233e-01, -1.59765959e+00,\n",
              "        -1.14684321e-01, -3.52939039e-01, -9.45493579e-02, -5.52651957e-02],\n",
              "       dtype=float32),\n",
              " array([ 1.25742517e-03,  1.14510357e+00,  1.22293741e-01,  3.65019031e-03,\n",
              "        -2.20078193e-02,  2.37108506e-02, -1.91599969e-02, -5.55933677e-02,\n",
              "        -2.34618075e-02, -6.21470902e-03,  2.66890600e-02, -2.69397274e-02,\n",
              "        -4.19604331e-02, -3.02189626e-02, -4.65447307e-02, -2.26486444e+00,\n",
              "        -7.01283962e-02, -4.05176654e-02, -4.35323119e-02, -6.41325712e-02,\n",
              "        -5.17696217e-02,  1.24852685e-02,  1.77686773e-02,  2.33018771e-02,\n",
              "        -7.83122182e-02, -3.76573062e+00, -1.23443857e-01, -2.29224190e-02,\n",
              "        -1.08210772e-01, -1.24077775e-01, -1.16360858e-02, -2.37431073e+00,\n",
              "        -5.08998670e-02,  2.31470913e-04,  2.26847976e-02,  2.07256675e-02],\n",
              "       dtype=float32),\n",
              " array([-0.8396942 ,  1.0441909 ,  0.        ,  0.        ,  0.        ,\n",
              "         0.        ,  0.        ,  0.        ,  0.        ,  0.        ,\n",
              "         0.        ,  0.        ,  0.        ,  0.        ,  0.        ,\n",
              "        -2.3794467 ,  0.        ,  0.        ,  0.        ,  0.        ,\n",
              "         0.        ,  0.        ,  0.        ,  0.        ,  0.        ,\n",
              "        -4.4135327 ,  0.        ,  0.        , -0.09025487,  0.        ,\n",
              "         0.        , -2.2231202 ,  0.        ,  0.        ,  0.        ,\n",
              "         0.        ], dtype=float32)]"
            ]
          },
          "metadata": {},
          "execution_count": 27
        }
      ]
    },
    {
      "cell_type": "code",
      "execution_count": 24,
      "metadata": {
        "colab": {
          "base_uri": "https://localhost:8080/",
          "height": 510
        },
        "id": "J6VSL7fePhNm",
        "outputId": "17bb2d2c-ddee-4e48-a33c-23603a9fd10e"
      },
      "outputs": [
        {
          "output_type": "display_data",
          "data": {
            "text/plain": [
              "<Figure size 1500x500 with 2 Axes>"
            ],
            "image/png": "[encoded data removed]"
          },
          "metadata": {}
        }
      ],
      "source": [
        "# 🔍 Heatmap des attributions des couches pour les positions de fin de réponse\n",
        "plt.figure(figsize=(15, 5))  # Définir la taille de la figure\n",
        "\n",
        "# Génération de la heatmap avec seaborn\n",
        "sns.heatmap(\n",
        "    np.array(layer_attrs_end),                # Données des attributions par couche pour la fin de réponse\n",
        "    xticklabels=all_tokens,                   # Étiquettes des tokens en abscisse\n",
        "    yticklabels=list(range(1, 13)),           # Numérotation des couches en ordonnée (de 1 à 12)\n",
        "    linewidth=0.2                             # Épaisseur des lignes de séparation\n",
        ")\n",
        "\n",
        "# Ajout des étiquettes des axes\n",
        "plt.xlabel('Tokens')                          # Étiquette de l'axe des X\n",
        "plt.ylabel('Layers')                          # Étiquette de l'axe des Y\n",
        "\n",
        "# Affichage de la heatmap\n",
        "plt.show()"
      ]
    },
    {
      "cell_type": "markdown",
      "source": [
        "## Interprétation des résultats :\n",
        "\n",
        "La heatmap des attributions pour les positions de fin de réponse met en lumière des zones d'activation significatives, particulièrement autour de certains tokens clés qui sont directement liés au contexte de la question. On remarque que les couches intermédiaires affichent des attributions plus prononcées, ce qui indique qu'elles jouent un rôle essentiel dans la consolidation des informations nécessaires pour identifier la fin de la réponse. Les couches les plus profondes montrent des attributions plus ciblées, suggérant un processus d'affinement progressif des décisions du modèle. En outre, certains tokens liés à des informations moins pertinentes présentent des attributions négatives, ce qui témoigne de la capacité du modèle à atténuer l'impact de ces éléments dans la prédiction finale. Ce schéma global met en évidence le rôle complémentaire des différentes couches dans la hiérarchisation des informations contextuelles et la définition des limites des réponses.\n",
        "\n"
      ],
      "metadata": {
        "id": "ks0f4LHtMN9s"
      }
    },
    {
      "cell_type": "markdown",
      "source": [
        "# Rapport et Analyse Finale"
      ],
      "metadata": {
        "id": "MMeh8z4MNLAv"
      }
    },
    {
      "cell_type": "markdown",
      "source": [
        "## Objectif du Projet"
      ],
      "metadata": {
        "id": "YiITHYPaNODA"
      }
    },
    {
      "cell_type": "markdown",
      "source": [
        "L'objectif de ce projet est d'explorer l'interprétabilité des modèles de type Large Language Model (LLM), en particulier BERT, dans le cadre des tâches de question-réponse. L'intérêt principal est de comprendre comment le modèle prend ses décisions lors de la prédiction des réponses, en identifiant les parties du texte qui ont le plus d'influence sur ces choix. Pour cela, nous avons recours à des techniques d'attribution de pertinence telles que Layer Integrated Gradients (LIG) et Layer Conductance (LC) pour analyser l'impact des différents tokens et couches du modèle sur les résultats obtenus.\n",
        "\n"
      ],
      "metadata": {
        "id": "JGl788_vNeAg"
      }
    },
    {
      "cell_type": "markdown",
      "source": [
        "## Modifications et Améliorations Apportées"
      ],
      "metadata": {
        "id": "JSdJzmO7NRNj"
      }
    },
    {
      "cell_type": "markdown",
      "source": [
        "Le projet a commencé par le prétraitement des données, qui incluait la tokenisation des paires question-contexte et la gestion des longues séquences par troncature. Nous avons amélioré le processus de prédiction en ajustant l'utilisation des masques d'attention et des identifiants d'entrée pour optimiser la gestion de la mémoire GPU. L'intégration de Captum a permis de peaufiner les analyses d'attribution grâce à des méthodes comme LIG et LC, ce qui a facilité l'identification des indices de début et de fin des réponses. Enfin, nous avons créé des visualisations détaillées des attributions au niveau des tokens et des couches, en utilisant des cartes de chaleur pour illustrer l'importance des différents éléments du texte"
      ],
      "metadata": {
        "id": "cnq6mGTsODek"
      }
    },
    {
      "cell_type": "markdown",
      "source": [
        "## Analyse des Résultats"
      ],
      "metadata": {
        "id": "RHKtb4ERNZo-"
      }
    },
    {
      "cell_type": "markdown",
      "source": [
        "Les résultats montrent que le modèle BERT peut identifier des zones d'influence clés dans les textes pour répondre aux questions. Les visualisations des attributions mettent en avant des tokens très influents, en particulier ceux qui sont directement liés à la question posée. La méthode LIG a permis de déterminer des contributions précises pour les positions de début et de fin des réponses, révélant des modèles d'activations cohérents à travers les différentes couches du modèle. De plus, les cartes de chaleur des attributions par couche montrent des variations significatives dans l'influence des tokens, avec des activations plus concentrées dans les couches intermédiaires. Ces analyses ont également mis en évidence des différences notables entre les positions de début et de fin des réponses, suggérant des stratégies d'encodage distinctes selon la nature des informations traitées."
      ],
      "metadata": {
        "id": "0E7Tsq9kOIMh"
      }
    },
    {
      "cell_type": "markdown",
      "source": [
        "## Points Positifs et Limites"
      ],
      "metadata": {
        "id": "c4jq1991Nabd"
      }
    },
    {
      "cell_type": "markdown",
      "source": [
        "L'approche adoptée présente plusieurs avantages, notamment la capacité à fournir des explications visuelles claires sur les décisions du modèle. Les techniques d'attribution utilisées permettent une meilleure compréhension des zones d'influence des réponses prédites, ce qui renforce la transparence du modèle. Cependant, certaines limites persistent, comme la consommation élevée de mémoire GPU, surtout lors de l'analyse des couches profondes, ce qui a entraîné des erreurs dépassant la capacité de la mémoire disponible. De plus, l'interprétation des résultats peut être compliquée par la complexité des interactions non linéaires entre les couches, rendant difficile la détermination des contributions individuelles exactes.\n",
        "\n"
      ],
      "metadata": {
        "id": "9LHltbXNOImP"
      }
    },
    {
      "cell_type": "markdown",
      "source": [
        "## Conclusion"
      ],
      "metadata": {
        "id": "Pi6SXs8DNcHs"
      }
    },
    {
      "cell_type": "markdown",
      "source": [
        "Ce projet a démontré l'efficacité des méthodes d'interprétabilité appliquées au modèle BERT, permettant d'obtenir des explications détaillées sur les prédictions de réponses dans des tâches de question-réponse. L'analyse des attributions a mis en lumière des zones d'influence clés et des modèles d'activations cohérents à travers les différentes couches du modèle. Bien qu'il existe certaines limites liées à la gestion des ressources matérielles et à la complexité des interactions entre les couches, les résultats obtenus renforcent notre compréhension des mécanismes internes du modèle et ouvrent la voie à des améliorations futures pour une interprétabilité encore plus précise des modèles de type LLM.\n",
        "\n"
      ],
      "metadata": {
        "id": "9ux_svBLOJAc"
      }
    }
  ],
  "metadata": {
    "colab": {
      "provenance": [],
      "gpuType": "T4"
    },
    "kernelspec": {
      "display_name": "Python 3",
      "name": "python3"
    },
    "language_info": {
      "codemirror_mode": {
        "name": "ipython",
        "version": 3
      },
      "file_extension": ".py",
      "mimetype": "text/x-python",
      "name": "python",
      "nbconvert_exporter": "python",
      "pygments_lexer": "ipython3",
      "version": "3.10.11"
    },
    "accelerator": "GPU"
  },
  "nbformat": 4,
  "nbformat_minor": 0
}
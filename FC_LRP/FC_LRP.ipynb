{
  "nbformat": 4,
  "nbformat_minor": 0,
  "metadata": {
    "colab": {
      "provenance": []
    },
    "kernelspec": {
      "name": "python3",
      "display_name": "Python 3"
    },
    "language_info": {
      "name": "python"
    }
  },
  "cells": [
    {
      "cell_type": "markdown",
      "source": [
        "# Clone du projet \"Layerwise Relevance Propagation pour l'analyse d'image\"\n",
        "### Nouvelles données utilisées : Mnist dataset\n",
        "### Réalisé par : Moqim Ghizlan et Thibaut JUILLARD\n",
        "\n",
        "\n",
        "Ce notebook implémente un modèle de réseau de neurones convolutif (CNN) sur le dataset MNIST, suivi de trois variantes de la méthode LRP pour interpréter les décisions du modèle :\n",
        "- LRP standard\n",
        "- LRP-ε (epsilon rule)\n",
        "- LRP-αβ (alpha-beta rule)"
      ],
      "metadata": {
        "id": "4v1uDZ9uZkco"
      }
    },
    {
      "cell_type": "markdown",
      "source": [
        "## Installation des bibliothèques nécessaires\n",
        "\n",
        "---\n",
        "\n",
        "\n"
      ],
      "metadata": {
        "id": "P0uEdpp2ZqDJ"
      }
    },
    {
      "cell_type": "code",
      "source": [
        "!pip install torch torchvision matplotlib numpy"
      ],
      "metadata": {
        "colab": {
          "base_uri": "https://localhost:8080/"
        },
        "id": "m2zGXthbZoG9",
        "outputId": "3db9802b-e8f9-45aa-dd55-adea70980612"
      },
      "execution_count": null,
      "outputs": [
        {
          "output_type": "stream",
          "name": "stdout",
          "text": [
            "Requirement already satisfied: torch in /usr/local/lib/python3.11/dist-packages (2.5.1+cu124)\n",
            "Requirement already satisfied: torchvision in /usr/local/lib/python3.11/dist-packages (0.20.1+cu124)\n",
            "Requirement already satisfied: matplotlib in /usr/local/lib/python3.11/dist-packages (3.10.0)\n",
            "Requirement already satisfied: numpy in /usr/local/lib/python3.11/dist-packages (1.26.4)\n",
            "Requirement already satisfied: filelock in /usr/local/lib/python3.11/dist-packages (from torch) (3.17.0)\n",
            "Requirement already satisfied: typing-extensions>=4.8.0 in /usr/local/lib/python3.11/dist-packages (from torch) (4.12.2)\n",
            "Requirement already satisfied: networkx in /usr/local/lib/python3.11/dist-packages (from torch) (3.4.2)\n",
            "Requirement already satisfied: jinja2 in /usr/local/lib/python3.11/dist-packages (from torch) (3.1.5)\n",
            "Requirement already satisfied: fsspec in /usr/local/lib/python3.11/dist-packages (from torch) (2024.9.0)\n",
            "Requirement already satisfied: nvidia-cuda-nvrtc-cu12==12.4.127 in /usr/local/lib/python3.11/dist-packages (from torch) (12.4.127)\n",
            "Requirement already satisfied: nvidia-cuda-runtime-cu12==12.4.127 in /usr/local/lib/python3.11/dist-packages (from torch) (12.4.127)\n",
            "Requirement already satisfied: nvidia-cuda-cupti-cu12==12.4.127 in /usr/local/lib/python3.11/dist-packages (from torch) (12.4.127)\n",
            "Requirement already satisfied: nvidia-cudnn-cu12==9.1.0.70 in /usr/local/lib/python3.11/dist-packages (from torch) (9.1.0.70)\n",
            "Requirement already satisfied: nvidia-cublas-cu12==12.4.5.8 in /usr/local/lib/python3.11/dist-packages (from torch) (12.4.5.8)\n",
            "Requirement already satisfied: nvidia-cufft-cu12==11.2.1.3 in /usr/local/lib/python3.11/dist-packages (from torch) (11.2.1.3)\n",
            "Requirement already satisfied: nvidia-curand-cu12==10.3.5.147 in /usr/local/lib/python3.11/dist-packages (from torch) (10.3.5.147)\n",
            "Requirement already satisfied: nvidia-cusolver-cu12==11.6.1.9 in /usr/local/lib/python3.11/dist-packages (from torch) (11.6.1.9)\n",
            "Requirement already satisfied: nvidia-cusparse-cu12==12.3.1.170 in /usr/local/lib/python3.11/dist-packages (from torch) (12.3.1.170)\n",
            "Requirement already satisfied: nvidia-nccl-cu12==2.21.5 in /usr/local/lib/python3.11/dist-packages (from torch) (2.21.5)\n",
            "Requirement already satisfied: nvidia-nvtx-cu12==12.4.127 in /usr/local/lib/python3.11/dist-packages (from torch) (12.4.127)\n",
            "Requirement already satisfied: nvidia-nvjitlink-cu12==12.4.127 in /usr/local/lib/python3.11/dist-packages (from torch) (12.4.127)\n",
            "Requirement already satisfied: triton==3.1.0 in /usr/local/lib/python3.11/dist-packages (from torch) (3.1.0)\n",
            "Requirement already satisfied: sympy==1.13.1 in /usr/local/lib/python3.11/dist-packages (from torch) (1.13.1)\n",
            "Requirement already satisfied: mpmath<1.4,>=1.1.0 in /usr/local/lib/python3.11/dist-packages (from sympy==1.13.1->torch) (1.3.0)\n",
            "Requirement already satisfied: pillow!=8.3.*,>=5.3.0 in /usr/local/lib/python3.11/dist-packages (from torchvision) (11.1.0)\n",
            "Requirement already satisfied: contourpy>=1.0.1 in /usr/local/lib/python3.11/dist-packages (from matplotlib) (1.3.1)\n",
            "Requirement already satisfied: cycler>=0.10 in /usr/local/lib/python3.11/dist-packages (from matplotlib) (0.12.1)\n",
            "Requirement already satisfied: fonttools>=4.22.0 in /usr/local/lib/python3.11/dist-packages (from matplotlib) (4.55.7)\n",
            "Requirement already satisfied: kiwisolver>=1.3.1 in /usr/local/lib/python3.11/dist-packages (from matplotlib) (1.4.8)\n",
            "Requirement already satisfied: packaging>=20.0 in /usr/local/lib/python3.11/dist-packages (from matplotlib) (24.2)\n",
            "Requirement already satisfied: pyparsing>=2.3.1 in /usr/local/lib/python3.11/dist-packages (from matplotlib) (3.2.1)\n",
            "Requirement already satisfied: python-dateutil>=2.7 in /usr/local/lib/python3.11/dist-packages (from matplotlib) (2.8.2)\n",
            "Requirement already satisfied: six>=1.5 in /usr/local/lib/python3.11/dist-packages (from python-dateutil>=2.7->matplotlib) (1.17.0)\n",
            "Requirement already satisfied: MarkupSafe>=2.0 in /usr/local/lib/python3.11/dist-packages (from jinja2->torch) (3.0.2)\n"
          ]
        }
      ]
    },
    {
      "cell_type": "markdown",
      "source": [
        "## Importation des bibliothèques"
      ],
      "metadata": {
        "id": "yiJKJGYPZuGC"
      }
    },
    {
      "cell_type": "code",
      "source": [
        "import torch\n",
        "import torch.nn as nn\n",
        "import torch.optim as optim\n",
        "from torchvision import datasets, transforms\n",
        "import matplotlib.pyplot as plt\n",
        "import numpy as np\n"
      ],
      "metadata": {
        "id": "QAtmlXdsZvek"
      },
      "execution_count": null,
      "outputs": []
    },
    {
      "cell_type": "markdown",
      "source": [
        "## Transformation des images en tenseurs et normalisation"
      ],
      "metadata": {
        "id": "1Qsn1F5YZwf5"
      }
    },
    {
      "cell_type": "code",
      "source": [
        "# Transformation des images : conversion en tenseurs et normalisation des pixels entre -1 et 1\n",
        "transform = transforms.Compose([\n",
        "    transforms.ToTensor(),  # Convertit les images en tenseurs PyTorch\n",
        "    transforms.Normalize((0.5,), (0.5,))  # Normalise les pixels pour centrer la distribution autour de 0\n",
        "])\n"
      ],
      "metadata": {
        "id": "fgMYYK8qZ0xf"
      },
      "execution_count": null,
      "outputs": []
    },
    {
      "cell_type": "markdown",
      "source": [
        "## Chargement des datasets MNIST (train et test)"
      ],
      "metadata": {
        "id": "YICVtg9hZzEp"
      }
    },
    {
      "cell_type": "code",
      "source": [
        "# Chargement du dataset MNIST pour l'entraînement et le test\n",
        "train_dataset = datasets.MNIST(root='./data', train=True, download=True, transform=transform)  # Données d'entraînement\n",
        "test_dataset = datasets.MNIST(root='./data', train=False, download=True, transform=transform)  # Données de test\n",
        "\n",
        "# Préparation des DataLoaders pour le traitement par lots\n",
        "train_loader = torch.utils.data.DataLoader(dataset=train_dataset, batch_size=64, shuffle=True)  # Mélange les données à chaque époque\n",
        "test_loader = torch.utils.data.DataLoader(dataset=test_dataset, batch_size=64, shuffle=False)   # Ne mélange pas les données de test\n"
      ],
      "metadata": {
        "id": "KXnSgVqmZ6eH"
      },
      "execution_count": null,
      "outputs": []
    },
    {
      "cell_type": "markdown",
      "source": [
        "# Définition du Modèle CNN"
      ],
      "metadata": {
        "id": "WUVG3wt3Z8n9"
      }
    },
    {
      "cell_type": "code",
      "source": [
        "class CNN(nn.Module):\n",
        "    \"\"\"Réseau de Neurones Convolutif (CNN) pour la classification MNIST.\"\"\"\n",
        "    def __init__(self):\n",
        "        super(CNN, self).__init__()\n",
        "        self.conv1 = nn.Conv2d(1, 32, kernel_size=3, stride=1, padding=1)   # Première couche convolutionnelle\n",
        "        self.relu = nn.ReLU()                                               # Fonction d'activation ReLU\n",
        "        self.pool = nn.MaxPool2d(2, 2)                                      # Couche de pooling pour réduire la dimensionnalité\n",
        "        self.conv2 = nn.Conv2d(32, 64, kernel_size=3, stride=1, padding=1)  # Deuxième couche convolutionnelle\n",
        "        self.fc1 = nn.Linear(64 * 7 * 7, 128)                               # Première couche entièrement connectée\n",
        "        self.fc2 = nn.Linear(128, 10)                                       # Couche de sortie pour la classification des 10 chiffres (0 à 9)\n",
        "\n",
        "    def forward(self, x):\n",
        "        x = self.relu(self.conv1(x))  # Application de la première convolution suivie de ReLU\n",
        "        x = self.pool(x)              # Réduction de la taille avec le max pooling\n",
        "        x = self.relu(self.conv2(x))  # Deuxième convolution suivie de ReLU\n",
        "        x = self.pool(x)              # Réduction de la taille avec le max pooling\n",
        "        x = x.view(-1, 64 * 7 * 7)    # Aplatissement des données pour la couche entièrement connectée\n",
        "        x = self.relu(self.fc1(x))    # Activation ReLU après la première couche fully connected\n",
        "        x = self.fc2(x)               # Couche de sortie sans activation (softmax sera appliqué plus tard si nécessaire)\n",
        "        return x\n"
      ],
      "metadata": {
        "id": "jAXnCQ-SZ-u2"
      },
      "execution_count": null,
      "outputs": []
    },
    {
      "cell_type": "markdown",
      "source": [
        "## Initialisation du modèle"
      ],
      "metadata": {
        "id": "b6F5u3YoaCgj"
      }
    },
    {
      "cell_type": "code",
      "source": [
        "model = CNN()"
      ],
      "metadata": {
        "id": "r0gfwMx8aBMr"
      },
      "execution_count": null,
      "outputs": []
    },
    {
      "cell_type": "markdown",
      "source": [
        "## Définition de la fonction de perte et de l'optimiseur"
      ],
      "metadata": {
        "id": "hOAT80oFaGJV"
      }
    },
    {
      "cell_type": "code",
      "source": [
        "criterion = nn.CrossEntropyLoss()  # Fonction de perte pour les tâches de classification multi-classes\n",
        "optimizer = optim.Adam(model.parameters(), lr=0.001)  # Optimiseur Adam pour la mise à jour des poids du modèle\n"
      ],
      "metadata": {
        "id": "XldXySQiaFIz"
      },
      "execution_count": null,
      "outputs": []
    },
    {
      "cell_type": "markdown",
      "source": [
        "# Entraînement du Modèle"
      ],
      "metadata": {
        "id": "yGbTcuwXaKKY"
      }
    },
    {
      "cell_type": "code",
      "source": [
        "num_epochs = 5  # Nombre d'époques d'entraînement\n",
        "\n",
        "for epoch in range(num_epochs):\n",
        "    running_loss = 0.0  # Accumulateur de la perte pour chaque époque\n",
        "\n",
        "    for images, labels in train_loader:\n",
        "        optimizer.zero_grad()  # Réinitialisation des gradients à zéro\n",
        "        outputs = model(images)  # Prédiction du modèle sur les images d'entrée\n",
        "        loss = criterion(outputs, labels)  # Calcul de la perte entre les prédictions et les étiquettes réelles\n",
        "        loss.backward()  # Propagation du gradient en arrière\n",
        "        optimizer.step()  # Mise à jour des poids du modèle\n",
        "        running_loss += loss.item()  # Accumulation de la perte\n",
        "\n",
        "    # Affichage de la perte moyenne pour l'époque en cours\n",
        "    print(f\"Époque {epoch+1}/{num_epochs}, Perte : {running_loss/len(train_loader):.4f}\")\n"
      ],
      "metadata": {
        "colab": {
          "base_uri": "https://localhost:8080/"
        },
        "id": "G_dqQkSIaJI4",
        "outputId": "6f5d741f-03b0-480e-a4a4-c7b4ef2ec80a"
      },
      "execution_count": null,
      "outputs": [
        {
          "output_type": "stream",
          "name": "stdout",
          "text": [
            "Époque 1/5, Perte : 0.1498\n",
            "Époque 2/5, Perte : 0.0461\n",
            "Époque 3/5, Perte : 0.0296\n",
            "Époque 4/5, Perte : 0.0235\n",
            "Époque 5/5, Perte : 0.0179\n"
          ]
        }
      ]
    },
    {
      "cell_type": "markdown",
      "source": [
        "# Implémentation des Méthodes LRP"
      ],
      "metadata": {
        "id": "lyxvy8iTaNJl"
      }
    },
    {
      "cell_type": "markdown",
      "source": [
        "## 1. LRP Standard"
      ],
      "metadata": {
        "id": "z5u75HhWaQRe"
      }
    },
    {
      "cell_type": "markdown",
      "source": [
        "La formule de propagation de la relevance avec la méthode **LRP standard** est définie comme suit :\n",
        "\n",
        "$$\n",
        "R_i = \\sum_j \\frac{z_{ij}}{\\sum_i z_{ij}} R_j\n",
        "$$\n",
        "\n",
        "Où :  \n",
        "- \\$( z_{ij} = x_i \\cdot w_{ij} \\)$ représente la contribution de l'activation de l'entrée \\$( x_i \\$) pondérée par le poids \\$( w_{ij} \\$) de la connexion entre les neurones des couches \\$( i \\$) et \\$( j \\$).  \n",
        "- \\$( R_j \\$) est la relevance attribuée au neurone \\$( j \\$) de la couche suivante.  \n",
        "- Le terme \\$( \\sum_i z_{ij} \\$) assure la normalisation de la distribution des relevances, garantissant ainsi la conservation des scores lors de la rétropropagation.\n",
        "\n",
        "Cette règle simple répartit la relevance en fonction des contributions proportionnelles des neurones d'entrée.\n"
      ],
      "metadata": {
        "id": "x0eGygq0dtpn"
      }
    },
    {
      "cell_type": "code",
      "source": [
        "def lrp(model, image, label):\n",
        "    \"\"\"\n",
        "    Implémentation de la méthode LRP standard pour expliquer les décisions du modèle.\n",
        "\n",
        "    Args:\n",
        "        model (nn.Module): Le modèle CNN entraîné.\n",
        "        image (torch.Tensor): L'image d'entrée à interpréter.\n",
        "        label (int): L'étiquette réelle de l'image.\n",
        "\n",
        "    Returns:\n",
        "        relevance_map (numpy.ndarray): Carte de relevance indiquant l'importance des pixels.\n",
        "        pred_label (int): Étiquette prédite par le modèle.\n",
        "    \"\"\"\n",
        "    model.eval()  # Passage en mode évaluation\n",
        "    image.requires_grad = True  # Autorise la propagation du gradient à travers l'image\n",
        "\n",
        "    output = model(image)  # Prédiction du modèle\n",
        "    pred_label = output.argmax().item()  # Étiquette prédite par le modèle\n",
        "\n",
        "    relevance = output[0, pred_label]  # Sélection de la sortie correspondant à l'étiquette prédite\n",
        "    relevance.backward()  # Propagation en arrière pour obtenir les gradients\n",
        "\n",
        "    relevance_map = image.grad.squeeze().detach().numpy()  # Extraction de la carte de relevance\n",
        "    return relevance_map, pred_label\n"
      ],
      "metadata": {
        "id": "VPO6QPYRaRNW"
      },
      "execution_count": null,
      "outputs": []
    },
    {
      "cell_type": "markdown",
      "source": [
        "## 2. LRP-ε (Epsilon Rule)"
      ],
      "metadata": {
        "id": "QCo3MRbtaWyb"
      }
    },
    {
      "cell_type": "markdown",
      "source": [
        "La règle **LRP-ε** modifie la formule de propagation de la relevance en ajoutant un petit terme **ε (epsilon)** au dénominateur pour éviter des résultats instables :  \n",
        "\n",
        "$$\n",
        "R_i = \\sum_j \\frac{z_{ij}}{z_j + \\varepsilon} R_j\n",
        "$$\n",
        "\n",
        "Où :  \n",
        "- \\$( z_{ij} = x_i \\cdot w_{ij} )\\$ est l'activation pondérée.  \n",
        "- \\$( z_j )\\$ est la somme des activations de la couche précédente.  \n",
        "- \\$( \\varepsilon )\\$ est un petit terme de stabilisation (par exemple, \\$10^{-6}\\$).\n"
      ],
      "metadata": {
        "id": "Jv9mHh6JdZ3Z"
      }
    },
    {
      "cell_type": "code",
      "source": [
        "def lrp_epsilon(model, image, label, epsilon=1e-6):\n",
        "    \"\"\"\n",
        "    Implémentation de la méthode LRP-ε pour stabiliser les attributions de relevance.\n",
        "\n",
        "    Args:\n",
        "        model (nn.Module): Le modèle CNN entraîné.\n",
        "        image (torch.Tensor): L'image d'entrée à interpréter.\n",
        "        label (int): L'étiquette réelle de l'image.\n",
        "        epsilon (float): Terme de stabilisation pour éviter les divisions par des petites valeurs.\n",
        "\n",
        "    Returns:\n",
        "        relevance_map (numpy.ndarray): Carte de relevance stabilisée indiquant l'importance des pixels.\n",
        "        pred_label (int): Étiquette prédite par le modèle.\n",
        "    \"\"\"\n",
        "    model.eval()  # Mode évaluation pour désactiver le dropout\n",
        "    image.requires_grad = True  # Active le calcul des gradients pour l'image\n",
        "\n",
        "    output = model(image)  # Prédiction du modèle\n",
        "    pred_label = output.argmax().item()  # Étiquette prédite par le modèle\n",
        "\n",
        "    relevance = output[0, pred_label]  # Sélection de la sortie correspondant à l'étiquette prédite\n",
        "    relevance.backward(retain_graph=True)  # Calcul des gradients\n",
        "\n",
        "    relevance_map = image.grad.squeeze().detach().numpy()  # Extraction de la carte de relevance\n",
        "    relevance_map = relevance_map / (np.abs(relevance_map) + epsilon)  # Stabilisation des valeurs de relevance\n",
        "\n",
        "    return relevance_map, pred_label\n"
      ],
      "metadata": {
        "id": "1ZemWesBaXF2"
      },
      "execution_count": null,
      "outputs": []
    },
    {
      "cell_type": "markdown",
      "source": [
        "## 3. LRP-αβ (Alpha-Beta Rule)"
      ],
      "metadata": {
        "id": "AF7sNYO_adaY"
      }
    },
    {
      "cell_type": "markdown",
      "source": [
        "## 3. LRP-αβ\n",
        "\n",
        "La formule de propagation de la relevance avec la règle **LRP-αβ** est définie comme suit :\n",
        "\n",
        "$$\n",
        "R_i = \\sum_j \\left( \\alpha \\cdot \\frac{z_{ij}^{+}}{\\sum_i z_{ij}^{+}} - \\beta \\cdot \\frac{z_{ij}^{-}}{\\sum_i z_{ij}^{-}} \\right) R_j\n",
        "$$\n",
        "\n",
        "Où :  \n",
        "- \\$( z_{ij}^{+} )\\$ et \\$( z_{ij}^{-} )\\$ sont respectivement les contributions positives et négatives des activations pondérées.  \n",
        "- \\$( \\alpha )\\$ et \\$( \\beta )\\$ sont des hyperparamètres contrôlant l’importance des contributions positives et négatives, avec la contrainte \\$( \\alpha - \\beta = 1 )\\$.  \n",
        "- Un choix courant est \\$( \\alpha = 1 )\\$ et \\$( \\beta = 0 )\\$ pour ne considérer que les contributions positives.\n"
      ],
      "metadata": {
        "id": "NJwTnvrcdggy"
      }
    },
    {
      "cell_type": "code",
      "source": [
        "def lrp_alpha_beta(model, image, label, alpha=1, beta=0):\n",
        "    \"\"\"\n",
        "    Implémentation de la méthode LRP-αβ pour gérer les contributions positives et négatives.\n",
        "\n",
        "    Args:\n",
        "        model (nn.Module): Le modèle CNN entraîné.\n",
        "        image (torch.Tensor): L'image d'entrée à interpréter.\n",
        "        label (int): L'étiquette réelle de l'image.\n",
        "        alpha (float): Poids attribué aux contributions positives.\n",
        "        beta (float): Poids attribué aux contributions négatives (par défaut à 0).\n",
        "\n",
        "    Returns:\n",
        "        relevance_map (numpy.ndarray): Carte de relevance mettant en évidence les contributions positives et négatives.\n",
        "        pred_label (int): Étiquette prédite par le modèle.\n",
        "    \"\"\"\n",
        "    model.eval()  # Mode évaluation pour désactiver le dropout\n",
        "    image.requires_grad = True  # Active le calcul des gradients pour l'image\n",
        "\n",
        "    output = model(image)  # Prédiction du modèle\n",
        "    pred_label = output.argmax().item()  # Étiquette prédite par le modèle\n",
        "\n",
        "    relevance = output[0, pred_label]  # Sélection de la sortie correspondant à l'étiquette prédite\n",
        "    relevance.backward(retain_graph=True)  # Calcul des gradients\n",
        "\n",
        "    grad = image.grad.squeeze().detach().numpy()  # Extraction des gradients\n",
        "    z_positive = np.maximum(grad, 0)  # Contributions positives\n",
        "    z_negative = np.minimum(grad, 0)  # Contributions négatives\n",
        "\n",
        "    # Calcul de la carte de relevance en pondérant les contributions positives et négatives\n",
        "    relevance_map = (alpha * z_positive) - (beta * np.abs(z_negative))\n",
        "\n",
        "    return relevance_map, pred_label\n"
      ],
      "metadata": {
        "id": "cmSlMLCDagb8"
      },
      "execution_count": null,
      "outputs": []
    },
    {
      "cell_type": "markdown",
      "source": [
        "# Visualisation des Résultats"
      ],
      "metadata": {
        "id": "3oPSE7jWajf6"
      }
    },
    {
      "cell_type": "code",
      "source": [
        "def visualize_lrp(image, label, model, lrp_method, title=\"LRP\"):\n",
        "    \"\"\"\n",
        "    Fonction pour visualiser l'image d'origine et sa carte de relevance.\n",
        "\n",
        "    Args:\n",
        "        image (torch.Tensor): Image d'entrée à interpréter.\n",
        "        label (int): Étiquette réelle de l'image.\n",
        "        model (nn.Module): Modèle CNN entraîné.\n",
        "        lrp_method (function): Méthode LRP à appliquer (standard, LRP-ε, LRP-αβ).\n",
        "        title (str): Titre de la visualisation (par défaut \"LRP\").\n",
        "    \"\"\"\n",
        "    image = image.unsqueeze(0)  # Ajout d'une dimension batch\n",
        "    relevance_map, pred_label = lrp_method(model, image, label)  # Application de la méthode LRP\n",
        "\n",
        "    plt.figure(figsize=(10, 4))\n",
        "\n",
        "    # Affichage de l'image originale\n",
        "    plt.subplot(1, 2, 1)\n",
        "    plt.title(f\"Image Originale (Vraie étiquette: {label})\")\n",
        "    plt.imshow(image.squeeze().detach().numpy(), cmap='gray')\n",
        "    plt.axis('off')\n",
        "\n",
        "    # Affichage de la carte de relevance\n",
        "    plt.subplot(1, 2, 2)\n",
        "    plt.title(f\"{title} (Prédiction: {pred_label})\")\n",
        "    plt.imshow(relevance_map, cmap='hot', interpolation='nearest')\n",
        "    plt.colorbar()\n",
        "    plt.axis('off')\n",
        "\n",
        "    plt.show()"
      ],
      "metadata": {
        "id": "6VlP7AiLalFV"
      },
      "execution_count": null,
      "outputs": []
    },
    {
      "cell_type": "markdown",
      "source": [
        "# Visualisation"
      ],
      "metadata": {
        "id": "-HoXAJuZamqr"
      }
    },
    {
      "cell_type": "markdown",
      "source": [
        "## Test sur une image aléatoire du dataset de test"
      ],
      "metadata": {
        "id": "j9TA6fHOasNs"
      }
    },
    {
      "cell_type": "code",
      "source": [
        "import random\n",
        "\n",
        "# Get a random index from the test dataset\n",
        "random_index = random.randint(0, len(test_dataset) - 1)\n",
        "\n",
        "# Get the image and label at that index\n",
        "image, label = test_dataset[random_index]\n",
        "\n",
        "# Print the label\n",
        "print(f\"Label: {label}\")"
      ],
      "metadata": {
        "colab": {
          "base_uri": "https://localhost:8080/"
        },
        "id": "-jx76Q3GapC2",
        "outputId": "166969fe-d01f-4eb2-c312-d1cf858e98b5"
      },
      "execution_count": null,
      "outputs": [
        {
          "output_type": "stream",
          "name": "stdout",
          "text": [
            "Label: 7\n"
          ]
        }
      ]
    },
    {
      "cell_type": "markdown",
      "source": [
        "## Visualisation pour les trois méthodes"
      ],
      "metadata": {
        "id": "eu0x1I_javQC"
      }
    },
    {
      "cell_type": "code",
      "source": [
        "visualize_lrp(image, label, model, lrp, \"LRP Standard\")"
      ],
      "metadata": {
        "colab": {
          "base_uri": "https://localhost:8080/",
          "height": 367
        },
        "id": "Cd7d6lHTaw1i",
        "outputId": "2518162b-af0c-4710-a8b2-c0c3bb27f0f9"
      },
      "execution_count": null,
      "outputs": [
        {
          "output_type": "display_data",
          "data": {
            "text/plain": [
              "<Figure size 1000x400 with 3 Axes>"
            ],
            "image/png": "[encoded data removed]"
          },
          "metadata": {}
        }
      ]
    },
    {
      "cell_type": "code",
      "source": [
        "visualize_lrp(image, label, model, lrp_alpha_beta, \"LRP-αβ (Alpha-Beta Rule)\")"
      ],
      "metadata": {
        "colab": {
          "base_uri": "https://localhost:8080/",
          "height": 376
        },
        "id": "IGcMv6dIaxJ8",
        "outputId": "fbab418e-0670-47df-c8c6-6a98a2af2bc5"
      },
      "execution_count": null,
      "outputs": [
        {
          "output_type": "display_data",
          "data": {
            "text/plain": [
              "<Figure size 1000x400 with 3 Axes>"
            ],
            "image/png": "[encoded data removed]"
          },
          "metadata": {}
        }
      ]
    },
    {
      "cell_type": "code",
      "source": [
        "visualize_lrp(image, label, model, lrp_epsilon, \"LRP-ε (Epsilon Rule)\")"
      ],
      "metadata": {
        "colab": {
          "base_uri": "https://localhost:8080/",
          "height": 367
        },
        "id": "jGwalG1saxV-",
        "outputId": "6edf5d7a-f9c3-45ef-e6d9-cbd975a0ff64"
      },
      "execution_count": null,
      "outputs": [
        {
          "output_type": "display_data",
          "data": {
            "text/plain": [
              "<Figure size 1000x400 with 3 Axes>"
            ],
            "image/png": "[encoded data removed]"
          },
          "metadata": {}
        }
      ]
    },
    {
      "cell_type": "markdown",
      "source": [
        "# Rapport et Analyse Finale"
      ],
      "metadata": {
        "id": "20-uFrFwcvIz"
      }
    },
    {
      "cell_type": "markdown",
      "source": [
        "## Objectif du Projet"
      ],
      "metadata": {
        "id": "NjFhT982cxUP"
      }
    },
    {
      "cell_type": "markdown",
      "source": [
        "L'objectif de ce projet est d'appliquer des techniques d'interprétabilité des modèles de Machine Learning en utilisant la méthode LRP (Layer-wise Relevance Propagation) sur un modèle de réseau de neurones convolutif (CNN). Le but principal était de comprendre comment le modèle prend ses décisions lorsqu'il est appliqué à des données du dataset MNIST, qui est spécialisé dans la reconnaissance de chiffres manuscrits. Pour cela, nous avons mis en œuvre trois variantes de la méthode LRP : la méthode standard, la variante LRP-ε et la variante LRP-αβ, afin de comparer les différents résultats d'interprétation.\n",
        "\n"
      ],
      "metadata": {
        "id": "z95VwoO3cyM4"
      }
    },
    {
      "cell_type": "markdown",
      "source": [
        "## Modifications et Améliorations Apportées"
      ],
      "metadata": {
        "id": "haSqUcQ1c4VL"
      }
    },
    {
      "cell_type": "markdown",
      "source": [
        "Nous avons commencé par établir un modèle CNN adapté au dataset MNIST, en utilisant deux couches convolutives, suivies de couches de pooling et de couches entièrement connectées pour la classification finale. Le modèle a été entraîné pendant cinq époques, et la perte a montré une diminution significative à chaque itération, passant de 0.1498 à 0.0179 à la cinquième époque. Ce résultat indique une convergence rapide du modèle vers une solution optimisée. Pour interpréter les résultats, nous avons intégré trois méthodes LRP afin d'observer les différences dans les cartes de rélevance générées. Chaque méthode a été ajustée pour fonctionner efficacement avec le modèle CNN, en tenant compte des spécificités des activations et des gradients.\n",
        "\n"
      ],
      "metadata": {
        "id": "E_-kfb7rc6TF"
      }
    },
    {
      "cell_type": "markdown",
      "source": [
        "## Analyse des Résultats"
      ],
      "metadata": {
        "id": "UOEZP_hIc8-q"
      }
    },
    {
      "cell_type": "markdown",
      "source": [
        "Les résultats indiquent que le modèle CNN obtient une performance très satisfaisante, avec une perte finale très faible. En analysant les cartes de rélevance, la méthode LRP standard a mis en évidence des zones d'influence clairement définies autour des caractéristiques principales des chiffres, ce qui montre que le modèle se concentre sur des éléments pertinents pour la classification. La variante LRP-ε a aidé à stabiliser les attributions en diminuant les activations parasites, bien que certaines cartes aient montré des motifs plus fragmentés. Enfin, la variante LRP-αβ a permis une meilleure distinction entre les contributions positives et négatives, soulignant les zones qui influencent le plus la décision du modèle, notamment sur les contours des chiffres manuscrits.\n",
        "\n"
      ],
      "metadata": {
        "id": "zrBNGQqBdCHJ"
      }
    },
    {
      "cell_type": "markdown",
      "source": [
        "## Points Positifs et Limites"
      ],
      "metadata": {
        "id": "1141djFZdDbD"
      }
    },
    {
      "cell_type": "markdown",
      "source": [
        "Le principal avantage de ce projet réside dans la capacité des méthodes LRP à offrir des explications visuelles claires sur les décisions du modèle. L'interprétabilité obtenue grâce à ces techniques permet de mieux saisir les zones d'intérêt du modèle, ce qui est essentiel dans des contextes où la confiance dans les prédictions est primordiale. Cependant, certaines limitations demeurent, notamment avec la méthode LRP-ε qui peut générer des cartes moins cohérentes selon les paramètres choisis. De plus, la qualité des visualisations peut être affectée par la complexité du modèle et la nature des données d'entrée.\n",
        "\n"
      ],
      "metadata": {
        "id": "PmX3ozlIdGQS"
      }
    },
    {
      "cell_type": "markdown",
      "source": [
        "## Conclusion"
      ],
      "metadata": {
        "id": "he_9e7jpdGkv"
      }
    },
    {
      "cell_type": "markdown",
      "source": [
        "Ce projet a illustré l'efficacité des méthodes d'interprétabilité LRP appliquées à un modèle CNN, permettant d'obtenir des explications visuelles sur les prédictions réalisées. L'analyse des cartes de rélevance a révélé l'importance des différentes variantes de LRP pour comprendre les mécanismes de décision du modèle. Ces techniques peuvent également être utilisées dans d'autres domaines où l'interprétabilité des modèles est cruciale, favorisant ainsi une meilleure transparence et une plus grande confiance dans les systèmes d'intelligence artificielle"
      ],
      "metadata": {
        "id": "9cwJCStMdI0m"
      }
    }
  ]
}